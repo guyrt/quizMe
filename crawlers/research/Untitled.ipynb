{
 "cells": [
  {
   "cell_type": "code",
   "execution_count": 1,
   "id": "67bd5620-9b7e-4f9e-a3b0-b6bc6d69f741",
   "metadata": {},
   "outputs": [],
   "source": [
    "import pypdf"
   ]
  },
  {
   "cell_type": "code",
   "execution_count": 2,
   "id": "ea3e1496-14c6-4c1c-824a-0f257f1371c0",
   "metadata": {},
   "outputs": [],
   "source": [
    "reader = pypdf.PdfReader(\"../samples/RFP/NewBrunswick/DIGITAL TRANSFORMATION SNB.CA.pdf\")"
   ]
  },
  {
   "cell_type": "code",
   "execution_count": 3,
   "id": "715e1c6b-ea66-418f-844e-e8ef3dc0307a",
   "metadata": {},
   "outputs": [
    {
     "data": {
      "text/plain": [
       "<pypdf._reader.PdfReader at 0x1a73746ff10>"
      ]
     },
     "execution_count": 3,
     "metadata": {},
     "output_type": "execute_result"
    }
   ],
   "source": [
    "reader"
   ]
  },
  {
   "cell_type": "code",
   "execution_count": 69,
   "id": "390f5c66-4233-4dbc-97cf-ded92ba31109",
   "metadata": {},
   "outputs": [],
   "source": [
    "number_of_pages = len(reader.pages)\n",
    "page = reader.pages[3]\n",
    "text = page.extract_text()"
   ]
  },
  {
   "cell_type": "code",
   "execution_count": 80,
   "id": "40310444-287f-4cef-90a9-5bbce67745b1",
   "metadata": {},
   "outputs": [],
   "source": [
    "def visitor_body(text, cm, tm, font_dict, font_size):\n",
    "    global last_font\n",
    "    raw_parts.append(text)\n",
    "    s = text\n",
    "    if font_size != last_font:\n",
    "        parts.append(f\"|ENDFONT={last_font}|\")\n",
    "        last_font = font_size\n",
    "        parts.append(f\"|FONT={font_size}|\")\n",
    "    parts.append(s)\n"
   ]
  },
  {
   "cell_type": "code",
   "execution_count": 81,
   "id": "93bc32ad-c6f3-489c-8ee1-7c96788adbfe",
   "metadata": {},
   "outputs": [
    {
     "name": "stdout",
     "output_type": "stream",
     "text": [
      "|ENDFONT=-1||FONT=12.0||ENDFONT=12.0||FONT=9.96| |ENDFONT=9.96||FONT=12.0||ENDFONT=12.0||FONT=9.96|\n",
      " |ENDFONT=9.96||FONT=12.0||ENDFONT=12.0||FONT=9.96| |ENDFONT=9.96||FONT=12.0||ENDFONT=12.0||FONT=9.96| |ENDFONT=9.96||FONT=12.0||ENDFONT=12.0||FONT=9.96|4|ENDFONT=9.96||FONT=12.0||ENDFONT=12.0||FONT=8.04| |ENDFONT=8.04||FONT=12.0||ENDFONT=12.0||FONT=9.96| |ENDFONT=9.96||FONT=12.0||ENDFONT=12.0||FONT=9.96|\n",
      " |ENDFONT=9.96||FONT=12.0|\n",
      "2.0 ADMINISTRATIVE REQUIREMENTS  \n",
      " \n",
      "The following terms will apply to this Request for Proposal and to any \n",
      "subsequent contract.  \n",
      " \n",
      " \n",
      "2.1 R|ENDFONT=12.0||FONT=9.48|EQUEST FOR |ENDFONT=9.48||FONT=12.0|P|ENDFONT=12.0||FONT=9.48|ROPOSAL |ENDFONT=9.48||FONT=12.0|T|ENDFONT=12.0||FONT=9.48|ERMINOLOGY|ENDFONT=9.48||FONT=12.0|  \n",
      " \n",
      " B|ENDFONT=12.0||FONT=9.48|USINESS |ENDFONT=9.48||FONT=12.0|D|ENDFONT=12.0||FONT=9.48|AY|ENDFONT=9.48||FONT=12.0| Any day other than Saturday, Sunday  or \n",
      "statutory holiday in the Province of New \n",
      "Brunswick.  \n",
      " \n",
      "C|ENDFONT=12.0||FONT=9.48|ONTRACTOR|ENDFONT=9.48||FONT=12.0| /S|ENDFONT=12.0||FONT=9.48|UPPLIER|ENDFONT=9.48||FONT=12.0||ENDFONT=12.0||FONT=9.96|  |ENDFONT=9.96||FONT=12.0||ENDFONT=12.0||FONT=9.96|         |ENDFONT=9.96||FONT=12.0|The successful proponent to this RFP who |ENDFONT=12.0||FONT=9.96| |ENDFONT=9.96||FONT=12.0||ENDFONT=12.0||FONT=9.96|\n",
      " |ENDFONT=9.96||FONT=12.0||ENDFONT=12.0||FONT=9.96| |ENDFONT=9.96||FONT=12.0||ENDFONT=12.0||FONT=9.96| |ENDFONT=9.96||FONT=12.0||ENDFONT=12.0||FONT=9.96| |ENDFONT=9.96||FONT=12.0||ENDFONT=12.0||FONT=9.96| |ENDFONT=9.96||FONT=12.0||ENDFONT=12.0||FONT=9.96|         |ENDFONT=9.96||FONT=12.0|enters into a written contract with the|ENDFONT=12.0||FONT=9.96|  |ENDFONT=9.96||FONT=12.0||ENDFONT=12.0||FONT=9.96| |ENDFONT=9.96||FONT=12.0||ENDFONT=12.0||FONT=9.96|\n",
      " |ENDFONT=9.96||FONT=12.0||ENDFONT=12.0||FONT=9.96| |ENDFONT=9.96||FONT=12.0||ENDFONT=12.0||FONT=9.96| |ENDFONT=9.96||FONT=12.0||ENDFONT=12.0||FONT=9.96|         |ENDFONT=9.96||FONT=12.0||ENDFONT=12.0||FONT=9.96|                             |ENDFONT=9.96||FONT=12.0|Province.  \n",
      " \n",
      " S|ENDFONT=12.0||FONT=9.48|TRATEGIC |ENDFONT=9.48||FONT=12.0|P|ENDFONT=12.0||FONT=9.48|ROCUREMENT|ENDFONT=9.48||FONT=12.0|  The Strategic Procurement Division of \n",
      "Service New Brunswick (SNB)  \n",
      " \n",
      " P|ENDFONT=12.0||FONT=9.48|ROVINCE|ENDFONT=9.48||FONT=12.0|  His Majesty the King in Right of the \n",
      "Province of New Brunswick as well as the \n",
      "Strategic Procurement Division of Service \n",
      "New Brunswick (SNB)  \n",
      " \n",
      " RFP Request for Proposal.  \n",
      " \n",
      " D|ENDFONT=12.0||FONT=9.48|EPARTMENT|ENDFONT=9.48||FONT=12.0|  Service New Brunswick   \n",
      " Province of New Brunswick  \n",
      " \n",
      "P|ENDFONT=12.0||FONT=9.48|ROPONENT|ENDFONT=9.48||FONT=12.0| /V|ENDFONT=12.0||FONT=9.48|ENDOR|ENDFONT=9.48||FONT=12.0||ENDFONT=12.0||FONT=9.96|  |ENDFONT=9.96||FONT=12.0|An individual or a company that submits, |ENDFONT=12.0||FONT=9.96| |ENDFONT=9.96||FONT=12.0||ENDFONT=12.0||FONT=9.96|\n",
      " |ENDFONT=9.96||FONT=12.0|or intends  to submit, a proposal in |ENDFONT=12.0||FONT=9.96|\n",
      " |ENDFONT=9.96||FONT=12.0|response to this “Request for Proposal”  \n",
      " \n",
      "M|ENDFONT=12.0||FONT=9.48|UST|ENDFONT=9.48||FONT=12.0|/R|ENDFONT=12.0||FONT=9.48|EQUIRED|ENDFONT=9.48||FONT=12.0| /S|ENDFONT=12.0||FONT=9.48|HALL|ENDFONT=9.48||FONT=12.0| /W|ENDFONT=12.0||FONT=9.48|ILL|ENDFONT=9.48||FONT=12.0||ENDFONT=12.0||FONT=8.04| |ENDFONT=8.04||FONT=12.0||ENDFONT=12.0||FONT=9.96| |ENDFONT=9.96||FONT=12.0|A requirement which must  be met in |ENDFONT=12.0||FONT=9.96|\n",
      " |ENDFONT=9.96||FONT=12.0|order|ENDFONT=12.0||FONT=9.96|  |ENDFONT=9.96||FONT=12.0|for the Proposal to receive \n",
      " consideration.  \n",
      " \n",
      " \n",
      " S|ENDFONT=12.0||FONT=9.48|HOULD|ENDFONT=9.48||FONT=12.0| /D|ENDFONT=12.0||FONT=9.48|ESIRABLE|ENDFONT=9.48||FONT=12.0| /M|ENDFONT=12.0||FONT=9.48|AY|ENDFONT=9.48||FONT=12.0| A requirement having a significant degree \n",
      "of importance to the objectives of the \n",
      "Request for Proposal.  \n",
      " \n",
      " \n",
      " \n"
     ]
    }
   ],
   "source": [
    "parts = []\n",
    "raw_parts = []\n",
    "last_font = -1\n",
    "\n",
    "page.extract_text(visitor_text=visitor_body)\n",
    "text_body = \"\".join(parts)\n",
    "\n",
    "print(text_body)"
   ]
  },
  {
   "cell_type": "code",
   "execution_count": 35,
   "id": "21d24958-773a-4e19-b5d2-a14ff6f0625b",
   "metadata": {},
   "outputs": [
    {
     "name": "stdout",
     "output_type": "stream",
     "text": [
      " \n",
      " \n",
      " \n",
      " \n",
      " \n",
      " \n",
      "REQUEST FOR PROPOSAL  \n",
      " \n",
      "# 8024089 -24 \n",
      " \n",
      "FOR  \n",
      " \n",
      "Digital Transformation and Modernization of  \n",
      "SNB.CA: Enhancing Customer Experience \n",
      "through Agile and Customer -Centric Online \n",
      "Services  \n",
      " \n",
      " \n",
      "PROVINCE OF NEW BRUNSWICK  \n",
      " \n",
      " \n",
      "Service New Brunswick  \n",
      " \n",
      " \n",
      " \n",
      "SUMMARY OF KEY INFORMATION  \n",
      " \n",
      " \n",
      "ISSUE DATE :   September 8, 2023      \n",
      " \n",
      "CLOSING  DATE  FOR  VENDOR  RESPONSE  \n",
      " \n",
      "Septe mber 29 , 2023, at 1:30 p.m. Fredericton time.  \n",
      " \n",
      " \n"
     ]
    }
   ],
   "source": [
    "print(\"\".join(raw_parts))"
   ]
  },
  {
   "cell_type": "code",
   "execution_count": 21,
   "id": "b7e3419e-e948-4308-973d-b4f2d8048310",
   "metadata": {},
   "outputs": [
    {
     "data": {
      "text/plain": [
       "' \\n \\n \\n \\n \\n \\nREQUEST FOR PROPOSAL  \\n \\n# 8024089 -24 \\n \\nFOR  \\n \\nDigital Transformation and Modernization of  \\nSNB.CA: Enhancing Customer Experience \\nthrough Agile and Customer -Centric Online \\nServices  \\n \\n \\nPROVINCE OF NEW BRUNSWICK  \\n \\n \\nService New Brunswick  \\n \\n \\n \\nSUMMARY OF KEY INFORMATION  \\n \\n \\nISSUE DATE :   September 8, 2023      \\n \\nCLOSING  DATE  FOR  VENDOR  RESPONSE  \\n \\nSepte mber 29 , 2023, at 1:30 p.m. Fredericton time.  \\n \\n '"
      ]
     },
     "execution_count": 21,
     "metadata": {},
     "output_type": "execute_result"
    }
   ],
   "source": []
  },
  {
   "cell_type": "code",
   "execution_count": 5,
   "id": "8a44b941-b6c4-4a59-bdb0-3b0280c08a51",
   "metadata": {},
   "outputs": [],
   "source": [
    "from io import StringIO\n",
    "from pdfminer.high_level import extract_text_to_fp\n",
    "from pdfminer.layout import LAParams\n",
    "output_string = StringIO()\n",
    "with open('../samples/RFP/NewBrunswick/DIGITAL TRANSFORMATION SNB.CA.pdf', 'rb') as fin:\n",
    "     extract_text_to_fp(fin, output_string, laparams=LAParams(),\n",
    "                        output_type='html', codec=None)"
   ]
  },
  {
   "cell_type": "code",
   "execution_count": 9,
   "id": "fcb3c5db-ed87-467a-9d23-8fcb1f2e2519",
   "metadata": {},
   "outputs": [
    {
     "data": {
      "text/plain": [
       "''"
      ]
     },
     "execution_count": 9,
     "metadata": {},
     "output_type": "execute_result"
    }
   ],
   "source": [
    "output_string.read()"
   ]
  },
  {
   "cell_type": "code",
   "execution_count": null,
   "id": "448bd41f-39c9-4a3a-9a2e-65b6e1e19f6f",
   "metadata": {},
   "outputs": [],
   "source": []
  }
 ],
 "metadata": {
  "kernelspec": {
   "display_name": "Python 3 (ipykernel)",
   "language": "python",
   "name": "python3"
  },
  "language_info": {
   "codemirror_mode": {
    "name": "ipython",
    "version": 3
   },
   "file_extension": ".py",
   "mimetype": "text/x-python",
   "name": "python",
   "nbconvert_exporter": "python",
   "pygments_lexer": "ipython3",
   "version": "3.11.4"
  }
 },
 "nbformat": 4,
 "nbformat_minor": 5
}
