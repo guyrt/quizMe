{
 "cells": [
  {
   "cell_type": "code",
   "execution_count": 31,
   "id": "007d9bd4-94ba-427b-928c-ac3878a1a489",
   "metadata": {},
   "outputs": [],
   "source": [
    "from pymilvus import (\n",
    "    connections,\n",
    "    utility,\n",
    "    FieldSchema,\n",
    "    Role,\n",
    "    CollectionSchema,\n",
    "    DataType,\n",
    "    Collection,\n",
    "    db\n",
    ")"
   ]
  },
  {
   "cell_type": "code",
   "execution_count": 33,
   "id": "a3362a9b-8900-4709-b440-4851b0ec705f",
   "metadata": {},
   "outputs": [],
   "source": [
    "conn = connections.connect(\"default\", host=\"20.14.2.47\", port=\"19530\", user='docintel', password='yYdC32KrCD8bdKdz')"
   ]
  },
  {
   "cell_type": "code",
   "execution_count": 34,
   "id": "33eae83a-d58e-4b8f-9668-4ebeacfd1b09",
   "metadata": {},
   "outputs": [],
   "source": [
    "# reset the password fool\n",
    "from pymilvus import utility"
   ]
  },
  {
   "cell_type": "code",
   "execution_count": 6,
   "id": "f4f4d84c-4d06-4741-a071-f9878d58bacd",
   "metadata": {},
   "outputs": [],
   "source": [
    "#utility.reset_password('root', 'Milvus', '', using='default')"
   ]
  },
  {
   "cell_type": "code",
   "execution_count": 12,
   "id": "4b79298e-7a78-42f3-a927-b46cb6ed5b53",
   "metadata": {},
   "outputs": [],
   "source": [
    "# make you a new user\n",
    "#utility.create_user('docintel', '', using='default')"
   ]
  },
  {
   "cell_type": "code",
   "execution_count": 35,
   "id": "53218085-5305-4d25-8f1f-9d5924450d71",
   "metadata": {},
   "outputs": [
    {
     "data": {
      "text/plain": [
       "UserInfo groups:\n",
       "- UserItem: <username:docintel>, <roles:('admin',)>"
      ]
     },
     "execution_count": 35,
     "metadata": {},
     "output_type": "execute_result"
    }
   ],
   "source": [
    "utility.list_user('docintel', include_role_info=True)"
   ]
  },
  {
   "cell_type": "code",
   "execution_count": 17,
   "id": "6fb1b170-a369-40cc-8b04-44cdf1cac31d",
   "metadata": {},
   "outputs": [],
   "source": [
    "role_name=\"Readwrite\"\n",
    "role = Role(role_name)\n",
    "role.create()"
   ]
  },
  {
   "cell_type": "code",
   "execution_count": 21,
   "id": "da3527b0-3bf5-4c76-be4d-d1fba4ef7648",
   "metadata": {},
   "outputs": [],
   "source": [
    "rg = utility.list_roles(include_user_info=True, using=\"default\")"
   ]
  },
  {
   "cell_type": "code",
   "execution_count": 26,
   "id": "e063d388-896c-4a87-b494-20c93b59f9bf",
   "metadata": {},
   "outputs": [],
   "source": [
    "r = Role(\"admin\")"
   ]
  },
  {
   "cell_type": "code",
   "execution_count": 27,
   "id": "d606fdc8-dc89-44e8-b6bb-db6e83778277",
   "metadata": {},
   "outputs": [
    {
     "data": {
      "text/plain": [
       "True"
      ]
     },
     "execution_count": 27,
     "metadata": {},
     "output_type": "execute_result"
    }
   ],
   "source": [
    "r.is_exist()"
   ]
  },
  {
   "cell_type": "code",
   "execution_count": 28,
   "id": "37299a97-d9ea-40a3-8e78-dcd2bcac0f48",
   "metadata": {},
   "outputs": [],
   "source": [
    "r.add_user(\"docintel\")"
   ]
  },
  {
   "cell_type": "markdown",
   "id": "402bd3f8-25b2-4c86-bf23-dba33061b038",
   "metadata": {},
   "source": [
    "Set up Collection\n",
    "------------"
   ]
  },
  {
   "cell_type": "code",
   "execution_count": 29,
   "id": "affc6b98-2e92-4765-987f-1290b138fd6e",
   "metadata": {},
   "outputs": [],
   "source": [
    "fields = [\n",
    "    FieldSchema(name=\"pk\", dtype=DataType.INT64, is_primary=True, auto_id=False),\n",
    "    FieldSchema(name=\"ownerpk\", dtype=DataType.INT64),\n",
    "    FieldSchema(name=\"docclass\", dtype=DataType.VARCHAR, max_length=128),\n",
    "    FieldSchema(name=\"embeddings\", dtype=DataType.FLOAT_VECTOR, dim=768)\n",
    "]\n",
    "schema = CollectionSchema(fields, \"Basic vector set with single category field\")\n",
    "webdocs_collection = Collection(\"webdocs\", schema)"
   ]
  },
  {
   "cell_type": "code",
   "execution_count": 36,
   "id": "340df9e9-8c7f-4743-9ac7-9cfe0354240e",
   "metadata": {},
   "outputs": [
    {
     "data": {
      "text/plain": [
       "['webdocs']"
      ]
     },
     "execution_count": 36,
     "metadata": {},
     "output_type": "execute_result"
    }
   ],
   "source": [
    "utility.list_collections()"
   ]
  },
  {
   "cell_type": "markdown",
   "id": "2db962eb-ed4b-49a5-b304-bd53ba9c2152",
   "metadata": {},
   "source": [
    "Set up an Index\n",
    "-----------------"
   ]
  },
  {
   "cell_type": "code",
   "execution_count": 39,
   "id": "7dd63f7d-69d6-475c-807d-18bcfe18a7da",
   "metadata": {},
   "outputs": [
    {
     "data": {
      "text/plain": [
       "NoneType"
      ]
     },
     "execution_count": 39,
     "metadata": {},
     "output_type": "execute_result"
    }
   ],
   "source": []
  },
  {
   "cell_type": "code",
   "execution_count": null,
   "id": "32885d41-1ec5-43ce-8309-518e418103d3",
   "metadata": {},
   "outputs": [],
   "source": []
  }
 ],
 "metadata": {
  "kernelspec": {
   "display_name": "Python 3 (ipykernel)",
   "language": "python",
   "name": "python3"
  },
  "language_info": {
   "codemirror_mode": {
    "name": "ipython",
    "version": 3
   },
   "file_extension": ".py",
   "mimetype": "text/x-python",
   "name": "python",
   "nbconvert_exporter": "python",
   "pygments_lexer": "ipython3",
   "version": "3.11.6"
  }
 },
 "nbformat": 4,
 "nbformat_minor": 5
}
