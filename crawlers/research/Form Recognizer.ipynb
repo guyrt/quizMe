{
 "cells": [
  {
   "cell_type": "code",
   "execution_count": null,
   "id": "7873aec1",
   "metadata": {},
   "outputs": [],
   "source": [
    "# import libraries\n",
    "import os\n",
    "from azure.ai.formrecognizer import DocumentAnalysisClient\n",
    "from azure.core.credentials import AzureKeyCredential\n"
   ]
  },
  {
   "cell_type": "code",
   "execution_count": null,
   "id": "82ddd7ff",
   "metadata": {},
   "outputs": [],
   "source": [
    "endpoint = \"https://cs-layout.cognitiveservices.azure.com/\"\n",
    "key = \"462f1d5b3cce4278a7ed97667d3e67f5\"\n",
    "\n"
   ]
  },
  {
   "cell_type": "code",
   "execution_count": null,
   "id": "36df0820",
   "metadata": {},
   "outputs": [],
   "source": [
    "document_analysis_client = DocumentAnalysisClient(endpoint=endpoint, credential=AzureKeyCredential(key))"
   ]
  },
  {
   "cell_type": "code",
   "execution_count": null,
   "id": "c091223c",
   "metadata": {},
   "outputs": [],
   "source": [
    "with open(\"../../samples/RFP/WAK2033/K2033 response from CRE8 Independent Consulant.pdf\", \"rb\") as pdf_file:\n",
    "    poller = document_analysis_client.begin_analyze_document(\"prebuilt-layout\", pdf_file)\n",
    "    result = poller.result()"
   ]
  },
  {
   "cell_type": "code",
   "execution_count": null,
   "id": "e16a99b4",
   "metadata": {},
   "outputs": [],
   "source": [
    "len(result.pages)"
   ]
  },
  {
   "cell_type": "code",
   "execution_count": null,
   "id": "1bac59a8",
   "metadata": {},
   "outputs": [],
   "source": [
    "[f\"role: {p.role} content {p.content}\" for p in result.paragraphs]"
   ]
  },
  {
   "cell_type": "code",
   "execution_count": null,
   "id": "56a20b78",
   "metadata": {},
   "outputs": [],
   "source": [
    "result.paragraphs[0]"
   ]
  },
  {
   "cell_type": "code",
   "execution_count": null,
   "id": "c125f0cc",
   "metadata": {},
   "outputs": [],
   "source": []
  }
 ],
 "metadata": {
  "kernelspec": {
   "display_name": "Python 3 (ipykernel)",
   "language": "python",
   "name": "python3"
  },
  "language_info": {
   "codemirror_mode": {
    "name": "ipython",
    "version": 3
   },
   "file_extension": ".py",
   "mimetype": "text/x-python",
   "name": "python",
   "nbconvert_exporter": "python",
   "pygments_lexer": "ipython3",
   "version": "3.10.9"
  }
 },
 "nbformat": 4,
 "nbformat_minor": 5
}
