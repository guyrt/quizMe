{
 "cells": [
  {
   "cell_type": "code",
   "execution_count": null,
   "id": "451c4416-7db5-42e1-a449-9fb05f5861b4",
   "metadata": {},
   "outputs": [],
   "source": [
    "from unstructured.partition.auto import partition"
   ]
  },
  {
   "cell_type": "code",
   "execution_count": null,
   "id": "dc4f2077-68f4-4d04-a44b-120dcea1c17c",
   "metadata": {},
   "outputs": [],
   "source": [
    "elements = partition(filename=\"../../samples/RFP/WAK2014/K2104ResponseCambayConsultingLLC.pdf\")"
   ]
  },
  {
   "cell_type": "code",
   "execution_count": null,
   "id": "d0582ee3-2f23-41a4-9e30-96d6e5bbea1e",
   "metadata": {},
   "outputs": [],
   "source": [
    "elements"
   ]
  },
  {
   "cell_type": "code",
   "execution_count": null,
   "id": "23bedf8f-3f61-4f46-9159-e74c5763cc6b",
   "metadata": {},
   "outputs": [],
   "source": [
    "[(e.category, e.text) for e in elements[-100:]]"
   ]
  },
  {
   "cell_type": "code",
   "execution_count": null,
   "id": "88391b03-5ffd-4524-9a23-efa5de165faa",
   "metadata": {},
   "outputs": [],
   "source": [
    "e = elements[1]"
   ]
  },
  {
   "cell_type": "code",
   "execution_count": null,
   "id": "243265fa-173c-4afe-a960-957c6426f110",
   "metadata": {},
   "outputs": [],
   "source": [
    "e.to_dict()"
   ]
  },
  {
   "cell_type": "code",
   "execution_count": null,
   "id": "a3c33568-e1ee-48ed-9531-8570679ed2c8",
   "metadata": {},
   "outputs": [],
   "source": []
  },
  {
   "cell_type": "code",
   "execution_count": null,
   "id": "c4a4ae57-44b2-4bde-8d9e-5facf3ed2503",
   "metadata": {},
   "outputs": [],
   "source": []
  }
 ],
 "metadata": {
  "kernelspec": {
   "display_name": "Python 3 (ipykernel)",
   "language": "python",
   "name": "python3"
  },
  "language_info": {
   "codemirror_mode": {
    "name": "ipython",
    "version": 3
   },
   "file_extension": ".py",
   "mimetype": "text/x-python",
   "name": "python",
   "nbconvert_exporter": "python",
   "pygments_lexer": "ipython3",
   "version": "3.10.9"
  }
 },
 "nbformat": 4,
 "nbformat_minor": 5
}
