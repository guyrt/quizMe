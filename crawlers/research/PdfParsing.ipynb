{
 "cells": [
  {
   "cell_type": "code",
   "execution_count": null,
   "id": "67bd5620-9b7e-4f9e-a3b0-b6bc6d69f741",
   "metadata": {},
   "outputs": [],
   "source": [
    "import pypdf"
   ]
  },
  {
   "cell_type": "code",
   "execution_count": null,
   "id": "ea3e1496-14c6-4c1c-824a-0f257f1371c0",
   "metadata": {},
   "outputs": [],
   "source": [
    "reader = pypdf.PdfReader(\"../../samples/RFP/OneWATesting/23-700_OneWA_Workday Testing Services_f.pdf\")\n",
    "#../../samples/RFP/Utah/GSS_14579DataComm_rfp.pdf\")\n",
    "#RFP/NewBrunswick/DIGITAL TRANSFORMATION SNB.CA.pdf\")\n",
    "#RFP/OneWATesting/23-700_OneWA_Workday Testing Services_f.pdf\")"
   ]
  },
  {
   "cell_type": "code",
   "execution_count": null,
   "id": "715e1c6b-ea66-418f-844e-e8ef3dc0307a",
   "metadata": {},
   "outputs": [],
   "source": [
    "reader"
   ]
  },
  {
   "cell_type": "code",
   "execution_count": null,
   "id": "390f5c66-4233-4dbc-97cf-ded92ba31109",
   "metadata": {},
   "outputs": [],
   "source": [
    "number_of_pages = len(reader.pages)\n",
    "page = reader.pages[10]\n",
    "text = page.extract_text()"
   ]
  },
  {
   "cell_type": "code",
   "execution_count": null,
   "id": "40310444-287f-4cef-90a9-5bbce67745b1",
   "metadata": {},
   "outputs": [],
   "source": [
    "def visitor_body(text, cm, tm, font_dict, font_size):\n",
    "    if font_dict:\n",
    "        weight = font_dict['/FontDescriptor']['/FontWeight']  # needs to be cleaned\n",
    "    else:\n",
    "        weight = None\n",
    "    raw_parts.append({'font_size': font_size, 'text': text, 'font_weight': weight})\n"
   ]
  },
  {
   "cell_type": "code",
   "execution_count": null,
   "id": "93bc32ad-c6f3-489c-8ee1-7c96788adbfe",
   "metadata": {},
   "outputs": [],
   "source": [
    "raw_parts = []\n",
    "t = page.extract_text(visitor_text=visitor_body)\n",
    "raw_parts = [r for r in raw_parts if r['text']]"
   ]
  },
  {
   "cell_type": "code",
   "execution_count": null,
   "id": "2b3959f1-6278-4cfa-abfa-a54812e00277",
   "metadata": {},
   "outputs": [],
   "source": [
    "raw_parts"
   ]
  },
  {
   "cell_type": "code",
   "execution_count": null,
   "id": "21d24958-773a-4e19-b5d2-a14ff6f0625b",
   "metadata": {},
   "outputs": [],
   "source": [
    "print(\"\".join(raw_parts))"
   ]
  },
  {
   "cell_type": "code",
   "execution_count": null,
   "id": "b7e3419e-e948-4308-973d-b4f2d8048310",
   "metadata": {},
   "outputs": [],
   "source": []
  },
  {
   "cell_type": "code",
   "execution_count": null,
   "id": "8a44b941-b6c4-4a59-bdb0-3b0280c08a51",
   "metadata": {},
   "outputs": [],
   "source": [
    "from io import StringIO\n",
    "from pdfminer.high_level import extract_text_to_fp\n",
    "from pdfminer.layout import LAParams\n",
    "output_string = StringIO()\n",
    "with open('../samples/RFP/NewBrunswick/DIGITAL TRANSFORMATION SNB.CA.pdf', 'rb') as fin:\n",
    "     extract_text_to_fp(fin, output_string, laparams=LAParams(),\n",
    "                        output_type='html', codec=None)"
   ]
  },
  {
   "cell_type": "code",
   "execution_count": null,
   "id": "fcb3c5db-ed87-467a-9d23-8fcb1f2e2519",
   "metadata": {},
   "outputs": [],
   "source": [
    "output_string.read()"
   ]
  },
  {
   "cell_type": "code",
   "execution_count": null,
   "id": "b1d7db47-38ae-4d05-b00f-1cf8a6131f3c",
   "metadata": {},
   "outputs": [],
   "source": []
  },
  {
   "cell_type": "code",
   "execution_count": null,
   "id": "55e98c4f-6afc-4ebd-8bf3-cd1da5b4f586",
   "metadata": {},
   "outputs": [],
   "source": [
    "from pdfminer.high_level import extract_text_to_fp\n"
   ]
  },
  {
   "cell_type": "code",
   "execution_count": null,
   "id": "a1d6a254-b2aa-4027-a416-d1b7b2f82ba8",
   "metadata": {},
   "outputs": [],
   "source": [
    "from io import BytesIO\n",
    "output = BytesIO()\n",
    "file_like = open('../../samples/RFP/WAK2033/K2033 response from CRE8 Independent Consulant.pdf', 'rb')\n",
    "extract_text_to_fp(file_like, output, output_type='html', page_numbers=[6])"
   ]
  },
  {
   "cell_type": "code",
   "execution_count": null,
   "id": "b0e6c4cb-a43e-461f-8d94-5b699c426956",
   "metadata": {},
   "outputs": [],
   "source": [
    "output"
   ]
  },
  {
   "cell_type": "code",
   "execution_count": null,
   "id": "68dffebb-c61c-471e-8ef9-b26c79a96942",
   "metadata": {},
   "outputs": [],
   "source": [
    "content = output.getvalue().decode('utf-8')"
   ]
  },
  {
   "cell_type": "code",
   "execution_count": null,
   "id": "f9b86326-b218-4134-b4e8-af43879bcd18",
   "metadata": {},
   "outputs": [],
   "source": [
    "content"
   ]
  },
  {
   "cell_type": "code",
   "execution_count": null,
   "id": "11d6faf2-f926-4999-83f4-33f281f51cbd",
   "metadata": {},
   "outputs": [],
   "source": []
  },
  {
   "cell_type": "code",
   "execution_count": null,
   "id": "b9017840-6505-47ee-bcdd-910ee12b2c8e",
   "metadata": {},
   "outputs": [],
   "source": []
  },
  {
   "cell_type": "code",
   "execution_count": null,
   "id": "e469b3b4-d624-49bc-909f-9c8c761213bd",
   "metadata": {},
   "outputs": [],
   "source": []
  },
  {
   "cell_type": "code",
   "execution_count": null,
   "id": "20de5262-2567-4405-8895-648e49f9f409",
   "metadata": {},
   "outputs": [],
   "source": []
  },
  {
   "cell_type": "code",
   "execution_count": null,
   "id": "905d824d-50ad-44c3-b2f1-b671e33ab933",
   "metadata": {},
   "outputs": [],
   "source": [
    "import fitz\n",
    "import pathlib"
   ]
  },
  {
   "cell_type": "code",
   "execution_count": null,
   "id": "d2635dea-4d91-4ee1-8309-f013f804e803",
   "metadata": {},
   "outputs": [],
   "source": [
    "#fname = '/mnt/c/Users/riguy/code/financeExplorer/samples/RFP/NewBrunswick/DIGITAL TRANSFORMATION SNB.CA.pdf'\n",
    "#fname = \"../../samples/RFP/Utah/GSS_14579DataComm_rfp.pdf\"\n",
    "#fname = \"../../samples/RFP/OneWATesting/23-700_OneWA_Workday Testing Services_f.pdf\"\n",
    "fname = \"../../samples/RFP/WAK2033/K2033 response from CRE8 Independent Consulant.pdf\"\n",
    "\n",
    "# with fitz.open(fname) as doc:  # open document\n",
    "#     text = ' '.join([page.get_text() for page in doc])\n",
    "# # write as a binary file to support non-ASCII characters\n",
    "# pathlib.Path(\"/mnt/c/tmp/out.txt\").write_bytes(text.encode())\n"
   ]
  },
  {
   "cell_type": "code",
   "execution_count": null,
   "id": "5a2d18a9-0a94-4137-bb7a-868305914a33",
   "metadata": {},
   "outputs": [],
   "source": []
  },
  {
   "cell_type": "code",
   "execution_count": null,
   "id": "9818359a-5a2c-4616-a5dd-2e98bbe12004",
   "metadata": {},
   "outputs": [],
   "source": [
    "def flags_decomposer(flags):\n",
    "    \"\"\"Make font flags human readable.\"\"\"\n",
    "    l = []\n",
    "    if flags & 2 ** 0:\n",
    "        l.append(\"superscript\")\n",
    "    if flags & 2 ** 1:\n",
    "        l.append(\"italic\")\n",
    "    if flags & 2 ** 2:\n",
    "        l.append(\"serifed\")\n",
    "    else:\n",
    "        l.append(\"sans\")\n",
    "    if flags & 2 ** 3:\n",
    "        l.append(\"monospaced\")\n",
    "    else:\n",
    "        l.append(\"proportional\")\n",
    "    if flags & 2 ** 4:\n",
    "        l.append(\"bold\")\n",
    "    return \", \".join(l)\n",
    "\n",
    "\n",
    "doc = fitz.open(fname)\n",
    "page = doc[2]\n",
    "\n",
    "# read page text as a dictionary, suppressing extra spaces in CJK fonts\n",
    "blocks = page.get_text(\"dict\", flags=11)[\"blocks\"]\n",
    "for b in blocks:  # iterate through the text blocks\n",
    "    for l in b[\"lines\"]:  # iterate through the text lines\n",
    "        for s in l[\"spans\"]:  # iterate through the text spans\n",
    "            print(\"\")\n",
    "            font_properties = \"Font: '%s' (%s), size %g, color #%06x\" % (\n",
    "                s[\"font\"],  # font name\n",
    "                flags_decomposer(s[\"flags\"]),  # readable font flags\n",
    "                s[\"size\"],  # font size\n",
    "                s[\"color\"],  # font color\n",
    "            )\n",
    "            print(\"Text: '%s'\" % s[\"text\"])  # simple print of text\n",
    "            print(font_properties)\n",
    "        print(\"-------newline----------\")"
   ]
  },
  {
   "cell_type": "code",
   "execution_count": null,
   "id": "70c69d6b-d1ef-4d04-a330-dd12753a824a",
   "metadata": {},
   "outputs": [],
   "source": [
    "blocks[0]"
   ]
  },
  {
   "cell_type": "code",
   "execution_count": null,
   "id": "bae713e6-3821-480e-9939-6c55f13ccf42",
   "metadata": {},
   "outputs": [],
   "source": []
  }
 ],
 "metadata": {
  "kernelspec": {
   "display_name": "Python 3 (ipykernel)",
   "language": "python",
   "name": "python3"
  },
  "language_info": {
   "codemirror_mode": {
    "name": "ipython",
    "version": 3
   },
   "file_extension": ".py",
   "mimetype": "text/x-python",
   "name": "python",
   "nbconvert_exporter": "python",
   "pygments_lexer": "ipython3",
   "version": "3.10.9"
  }
 },
 "nbformat": 4,
 "nbformat_minor": 5
}
