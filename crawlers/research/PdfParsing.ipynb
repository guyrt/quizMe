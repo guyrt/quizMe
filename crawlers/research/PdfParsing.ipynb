{
 "cells": [
  {
   "cell_type": "code",
   "execution_count": 5,
   "id": "67bd5620-9b7e-4f9e-a3b0-b6bc6d69f741",
   "metadata": {},
   "outputs": [],
   "source": [
    "import pypdf"
   ]
  },
  {
   "cell_type": "code",
   "execution_count": 6,
   "id": "ea3e1496-14c6-4c1c-824a-0f257f1371c0",
   "metadata": {},
   "outputs": [],
   "source": [
    "reader = pypdf.PdfReader(\"../../samples/RFP/OneWATesting/23-700_OneWA_Workday Testing Services_f.pdf\")\n",
    "#../../samples/RFP/Utah/GSS_14579DataComm_rfp.pdf\")\n",
    "#RFP/NewBrunswick/DIGITAL TRANSFORMATION SNB.CA.pdf\")\n",
    "#RFP/OneWATesting/23-700_OneWA_Workday Testing Services_f.pdf\")"
   ]
  },
  {
   "cell_type": "code",
   "execution_count": 7,
   "id": "715e1c6b-ea66-418f-844e-e8ef3dc0307a",
   "metadata": {},
   "outputs": [
    {
     "data": {
      "text/plain": [
       "<pypdf._reader.PdfReader at 0x246d446aad0>"
      ]
     },
     "execution_count": 7,
     "metadata": {},
     "output_type": "execute_result"
    }
   ],
   "source": [
    "reader"
   ]
  },
  {
   "cell_type": "code",
   "execution_count": 8,
   "id": "390f5c66-4233-4dbc-97cf-ded92ba31109",
   "metadata": {},
   "outputs": [],
   "source": [
    "number_of_pages = len(reader.pages)\n",
    "page = reader.pages[10]\n",
    "text = page.extract_text()"
   ]
  },
  {
   "cell_type": "code",
   "execution_count": 11,
   "id": "40310444-287f-4cef-90a9-5bbce67745b1",
   "metadata": {},
   "outputs": [],
   "source": [
    "def visitor_body(text, cm, tm, font_dict, font_size):\n",
    "    if font_dict:\n",
    "        weight = font_dict['/FontDescriptor']['/FontWeight']  # needs to be cleaned\n",
    "    else:\n",
    "        weight = None\n",
    "    raw_parts.append({'font_size': font_size, 'text': text, 'font_weight': weight})\n"
   ]
  },
  {
   "cell_type": "code",
   "execution_count": 12,
   "id": "93bc32ad-c6f3-489c-8ee1-7c96788adbfe",
   "metadata": {},
   "outputs": [],
   "source": [
    "raw_parts = []\n",
    "t = page.extract_text(visitor_text=visitor_body)\n",
    "raw_parts = [r for r in raw_parts if r['text']]"
   ]
  },
  {
   "cell_type": "code",
   "execution_count": 13,
   "id": "2b3959f1-6278-4cfa-abfa-a54812e00277",
   "metadata": {},
   "outputs": [
    {
     "data": {
      "text/plain": [
       "[{'font_size': 1.0, 'text': ' \\n', 'font_weight': 400},\n",
       " {'font_size': 1.0, 'text': 'RFP # 23-700 \\n', 'font_weight': 400},\n",
       " {'font_size': 1.0,\n",
       "  'text': 'One Washington Testing Services  Page 10  ',\n",
       "  'font_weight': 400},\n",
       " {'font_size': 1.0, 'text': ' ', 'font_weight': 700},\n",
       " {'font_size': 1.0,\n",
       "  'text': '1) Additional Insured.  The state of Washington, [agency name], its elected and appointed \\n',\n",
       "  'font_weight': 400},\n",
       " {'font_size': 1.0,\n",
       "  'text': 'officials, agent s and employees shall be named as an additional insured on all general liability, \\n',\n",
       "  'font_weight': 400},\n",
       " {'font_size': 1.0,\n",
       "  'text': 'excess, umbrella and property insurance policies.  All insurance provided in compliance with this contract shall be primary as to any other insurance or self -insurance programs afforded to \\n',\n",
       "  'font_weight': 400},\n",
       " {'font_size': 1.0,\n",
       "  'text': 'or maintained by the state.   \\n',\n",
       "  'font_weight': 400},\n",
       " {'font_size': 1.0,\n",
       "  'text': '2) Cancellation.  State of Washington, [',\n",
       "  'font_weight': 400},\n",
       " {'font_size': 1.0, 'text': ' agency name', 'font_weight': 400},\n",
       " {'font_size': 1.0,\n",
       "  'text': ' ], shall be provided written notice before \\n',\n",
       "  'font_weight': 400},\n",
       " {'font_size': 1.0,\n",
       "  'text': 'cancellation or non- renewal of any insurance referred to therein, in accord with the following \\n',\n",
       "  'font_weight': 400},\n",
       " {'font_size': 1.0,\n",
       "  'text': 'specifications.  Insurers  subject to 48.18 RCW (Admitted and Regulation by the Insurance \\n',\n",
       "  'font_weight': 400},\n",
       " {'font_size': 1.0,\n",
       "  'text': 'Commissioner):  The insurer shall give the state 45 days advance notice of cancellation or non-renewal.  If cancellation is due to non- payment of premium, the state shall be given 10 days \\n',\n",
       "  'font_weight': 400},\n",
       " {'font_size': 1.0,\n",
       "  'text': 'advance notice of cancellation.  Insurers subject to 48.15 RCW (Surplus lines):  The state shall be given 20 days advance notice of cancellation.  If cancellation is due to non- payment of \\n',\n",
       "  'font_weight': 400},\n",
       " {'font_size': 1.0,\n",
       "  'text': 'premium, the state shall be given 10 days advance notice of cancellation . \\n',\n",
       "  'font_weight': 400},\n",
       " {'font_size': 1.0,\n",
       "  'text': '3) Identification.  Policy must reference the state’s contract number and the agency name.  \\n',\n",
       "  'font_weight': 400},\n",
       " {'font_size': 1.0,\n",
       "  'text': '4) Insurance Carrier Rating.  All insurance and bonds should be issued by companies admitted doing business within the state of Washington and have a rating of A -, Class  VII or better in the \\n',\n",
       "  'font_weight': 400},\n",
       " {'font_size': 1.0,\n",
       "  'text': 'most recently published edition of Best’s Reports.  Any exception shall be reviewed and approved by the Office of Financial Management Risk Manager, or the Risk Manager for the state of Washington, before the contract is accepted or w ork may begin.  If an insurer is not \\n',\n",
       "  'font_weight': 400},\n",
       " {'font_size': 1.0,\n",
       "  'text': 'admitted, all insurance policies and procedures for issuing the insurance policies must comply \\n',\n",
       "  'font_weight': 400},\n",
       " {'font_size': 1.0,\n",
       "  'text': 'with Chapter 48.15 RCW and 284- 15 WAC  \\n',\n",
       "  'font_weight': 400},\n",
       " {'font_size': 1.0,\n",
       "  'text': '5) Excess Coverage.  By requiring insurance herein, the state does not represent that coverage \\n',\n",
       "  'font_weight': 400},\n",
       " {'font_size': 1.0,\n",
       "  'text': 'and limits will be adequate to protect Contractor, and such coverage and limits shall not limit Contractor’s liability under the indemnities and reimbursements granted to the state in this contract.  \\n',\n",
       "  'font_weight': 400},\n",
       " {'font_size': 1.0, 'text': ' ', 'font_weight': 400},\n",
       " {'font_size': 1.0, 'text': '\\n', 'font_weight': 400},\n",
       " {'font_size': 1.0, 'text': 'd. ', 'font_weight': 400},\n",
       " {'font_size': 1.0,\n",
       "  'text': 'Workers’ Compensation Coverage. ',\n",
       "  'font_weight': 700},\n",
       " {'font_size': 1.0,\n",
       "  'text': 'The Contractor will at all times comply with all applicable ',\n",
       "  'font_weight': 400},\n",
       " {'font_size': 1.0, 'text': '\\n', 'font_weight': 400},\n",
       " {'font_size': 1.0,\n",
       "  'text': 'workers’ compensation, occupational disease, and occupational health and safety laws, statutes, and regulations to the full extent applicable.  The state will not be held responsive in any way for claims filed b y the Contractor or their employees for services performed under the terms of this \\n',\n",
       "  'font_weight': 400},\n",
       " {'font_size': 1.0, 'text': 'contract.  ', 'font_weight': 400},\n",
       " {'font_size': 1.0, 'text': '\\n', 'font_weight': 700},\n",
       " {'font_size': 1.0, 'text': '  \\n', 'font_weight': 700},\n",
       " {'font_size': 1.0,\n",
       "  'text': '2.17.  COMPLAINT PROCESS  \\n',\n",
       "  'font_weight': 700},\n",
       " {'font_size': 1.0, 'text': ' ', 'font_weight': 700},\n",
       " {'font_size': 1.0,\n",
       "  'text': 'This procedure is available to potential Applicant s who are contemplating submitting a bid in \\n',\n",
       "  'font_weight': 400},\n",
       " {'font_size': 1.0,\n",
       "  'text': 'response to this RFP .  Only complaints concerning the following subjects shall be considered:',\n",
       "  'font_weight': 400},\n",
       " {'font_size': 1.0, 'text': '  ', 'font_weight': 700},\n",
       " {'font_size': 1.0, 'text': '\\n', 'font_weight': 400},\n",
       " {'font_size': 1.0,\n",
       "  'text': ' • A claim that the solicitation unnecessarily restricts competition.  ',\n",
       "  'font_weight': 400},\n",
       " {'font_size': 1.0, 'text': ' ', 'font_weight': 700},\n",
       " {'font_size': 1.0, 'text': '\\n', 'font_weight': 400},\n",
       " {'font_size': 1.0,\n",
       "  'text': '• A claim the solicitation evaluation or scoring process is unfair or flawed, or ',\n",
       "  'font_weight': 400},\n",
       " {'font_size': 1.0, 'text': ' ', 'font_weight': 700},\n",
       " {'font_size': 1.0, 'text': '\\n', 'font_weight': 400},\n",
       " {'font_size': 1.0,\n",
       "  'text': '• A claim the solicitation requirements are inadequate or insufficient to prepare a response. ',\n",
       "  'font_weight': 400},\n",
       " {'font_size': 1.0, 'text': ' ', 'font_weight': 700},\n",
       " {'font_size': 1.0, 'text': '\\n', 'font_weight': 400},\n",
       " {'font_size': 1.0, 'text': ' \\n', 'font_weight': 400},\n",
       " {'font_size': 1.0,\n",
       "  'text': 'Applicant s complaining about this procurement shall follow the procedures described below. \\n',\n",
       "  'font_weight': 400},\n",
       " {'font_size': 1.0,\n",
       "  'text': 'Complaints that do not follow these procedures shall not be considered. If a n Applicant  registers a \\n',\n",
       "  'font_weight': 400},\n",
       " {'font_size': 1.0,\n",
       "  'text': 'complaint against this solicitation, the complaint cannot be raised again during the protest period.',\n",
       "  'font_weight': 400},\n",
       " {'font_size': 1.0, 'text': '  ', 'font_weight': 700},\n",
       " {'font_size': 1.0, 'text': '\\n', 'font_weight': 400},\n",
       " {'font_size': 1.0, 'text': ' \\n', 'font_weight': 400},\n",
       " {'font_size': 1.0,\n",
       "  'text': 'All complaints must be in writing and signed by the complaining party or an authorized Agent. The \\n',\n",
       "  'font_weight': 400},\n",
       " {'font_size': 1.0,\n",
       "  'text': 'complaint must be sent to the Procurement Coordinator, or designee by the date set forth in the \\n',\n",
       "  'font_weight': 400},\n",
       " {'font_size': 1.0,\n",
       "  'text': 'Procurement Schedule and must clearly articulate the basis for the complaint. The Applicant  \\n',\n",
       "  'font_weight': 400},\n",
       " {'font_size': 1.0,\n",
       "  'text': 'submitting the complaint must also include a proposed remedy.',\n",
       "  'font_weight': 400},\n",
       " {'font_size': 1.0, 'text': '  ', 'font_weight': 700},\n",
       " {'font_size': 1.0, 'text': '\\n', 'font_weight': 400},\n",
       " {'font_size': 1.0,\n",
       "  'text': ' Upon receipt of a complaint, a complaint review will be held by the AGE NCY. The AGENCY \\n',\n",
       "  'font_weight': 400},\n",
       " {'font_size': 1.0,\n",
       "  'text': 'procurement coordinator will respond to complaints in writing and the AGENCY director will be notified of all complaints and provided a copy of the AGENCY’S response.  A copy of the response to \\n',\n",
       "  'font_weight': 400},\n",
       " {'font_size': 1.0,\n",
       "  'text': 'the complaint, including any changes to the solicitatio n, will also be posted to WEBS.',\n",
       "  'font_weight': 400},\n",
       " {'font_size': 1.0, 'text': '  ', 'font_weight': 700},\n",
       " {'font_size': 1.0, 'text': '\\n', 'font_weight': 400},\n",
       " {'font_size': 1.0, 'text': ' \\n', 'font_weight': 400},\n",
       " {'font_size': 1.0,\n",
       "  'text': 'The complaint process does not include an appeal process.',\n",
       "  'font_weight': 400},\n",
       " {'font_size': 1.0, 'text': '  ', 'font_weight': 700}]"
      ]
     },
     "execution_count": 13,
     "metadata": {},
     "output_type": "execute_result"
    }
   ],
   "source": [
    "raw_parts"
   ]
  },
  {
   "cell_type": "code",
   "execution_count": 56,
   "id": "21d24958-773a-4e19-b5d2-a14ff6f0625b",
   "metadata": {},
   "outputs": [
    {
     "name": "stdout",
     "output_type": "stream",
     "text": [
      "12.0:12.0:12.0:14.04: 12.0:14.04:\n",
      "14.04: 12.0:12.0:\n",
      "12.0: 12.0:18.0:\n",
      "18.0: 12.0:18.0:\n",
      "18.0: 12.0:18.0:\n",
      "18.0: 12.0:18.0:\n",
      "18.0:REQUEST FOR PROPOSAL12.0:18.0:  12.0:9.96:\n",
      "9.96: 12.0:18.0:\n",
      "18.0:#12.0:9.96: 12.0:18.0:802408912.0:18.0: -12.0:18.0:2412.0:18.0: 12.0:18.0:\n",
      "18.0: 12.0:18.0:\n",
      "18.0:FOR12.0:18.0:  12.0:18.0:\n",
      "18.0: 12.0:18.0:\n",
      "18.0:Digital Transformation and Modernization of12.0:18.0:  12.0:18.0:\n",
      "18.0:SNB.CA: Enhancing Customer Experience 12.0:18.0:\n",
      "18.0:through Agile and Customer12.0:18.0: -12.0:18.0:Centric Online 12.0:18.0:\n",
      "18.0:Services12.0:18.0:  12.0:12.0:\n",
      "12.0: 12.0:12.0:\n",
      "12.0: 12.0:18.0:\n",
      "18.0:PROVINCE OF NEW BRUNSWICK12.0:18.0:  12.0:18.0:\n",
      "18.0: 12.0:18.0:\n",
      "18.0: 12.0:18.0:\n",
      "18.0:Service New Brunswick12.0:20.04:  12.0:18.0:\n",
      "18.0: 12.0:14.04:\n",
      "14.04: 12.0:18.0:\n",
      "18.0: 12.0:12.0:\n",
      "12.0:S12.0:9.48:UMMARY OF 12.0:12.0:K12.0:9.48:EY 12.0:12.0:I12.0:9.48:NFORMATION12.0:12.0:  12.0:12.0:\n",
      "12.0: 12.0:12.0:\n",
      "12.0: 12.0:12.0:\n",
      "12.0:ISSUE DATE12.0:12.0: :12.0:12.0: 12.0:12.0: 12.0:12.0: 12.0:12.0:September 12.0:12.0:812.0:12.0:, 202312.0:12.0:  12.0:12.0: 12.0:12.0: 12.0:12.0: 12.0:12.0: 12.0:12.0:\n",
      "12.0: 12.0:12.0:\n",
      "12.0:CLOSING12.0:9.48:  12.0:12.0:DATE12.0:9.48:  12.0:12.0:FOR12.0:9.48:  12.0:12.0:VENDOR12.0:9.48:  12.0:12.0:RESPONSE12.0:12.0:  12.0:12.0:\n",
      "12.0: 12.0:12.0:\n",
      "12.0:Septe12.0:12.0: mber 2912.0:12.0: ,12.0:12.0: 12.0:12.0:2012.0:12.0:2312.0:12.0:,12.0:12.0: 12.0:12.0:at 1:30 p.m. Fredericton time.12.0:12.0:  12.0:12.0:\n",
      "12.0: 12.0:12.0:\n",
      "12.0: \n"
     ]
    }
   ],
   "source": [
    "print(\"\".join(raw_parts))"
   ]
  },
  {
   "cell_type": "code",
   "execution_count": 21,
   "id": "b7e3419e-e948-4308-973d-b4f2d8048310",
   "metadata": {},
   "outputs": [
    {
     "data": {
      "text/plain": [
       "' \\n \\n \\n \\n \\n \\nREQUEST FOR PROPOSAL  \\n \\n# 8024089 -24 \\n \\nFOR  \\n \\nDigital Transformation and Modernization of  \\nSNB.CA: Enhancing Customer Experience \\nthrough Agile and Customer -Centric Online \\nServices  \\n \\n \\nPROVINCE OF NEW BRUNSWICK  \\n \\n \\nService New Brunswick  \\n \\n \\n \\nSUMMARY OF KEY INFORMATION  \\n \\n \\nISSUE DATE :   September 8, 2023      \\n \\nCLOSING  DATE  FOR  VENDOR  RESPONSE  \\n \\nSepte mber 29 , 2023, at 1:30 p.m. Fredericton time.  \\n \\n '"
      ]
     },
     "execution_count": 21,
     "metadata": {},
     "output_type": "execute_result"
    }
   ],
   "source": []
  },
  {
   "cell_type": "code",
   "execution_count": 5,
   "id": "8a44b941-b6c4-4a59-bdb0-3b0280c08a51",
   "metadata": {},
   "outputs": [],
   "source": [
    "from io import StringIO\n",
    "from pdfminer.high_level import extract_text_to_fp\n",
    "from pdfminer.layout import LAParams\n",
    "output_string = StringIO()\n",
    "with open('../samples/RFP/NewBrunswick/DIGITAL TRANSFORMATION SNB.CA.pdf', 'rb') as fin:\n",
    "     extract_text_to_fp(fin, output_string, laparams=LAParams(),\n",
    "                        output_type='html', codec=None)"
   ]
  },
  {
   "cell_type": "code",
   "execution_count": 9,
   "id": "fcb3c5db-ed87-467a-9d23-8fcb1f2e2519",
   "metadata": {},
   "outputs": [
    {
     "data": {
      "text/plain": [
       "''"
      ]
     },
     "execution_count": 9,
     "metadata": {},
     "output_type": "execute_result"
    }
   ],
   "source": [
    "output_string.read()"
   ]
  },
  {
   "cell_type": "code",
   "execution_count": null,
   "id": "b1d7db47-38ae-4d05-b00f-1cf8a6131f3c",
   "metadata": {},
   "outputs": [],
   "source": []
  },
  {
   "cell_type": "code",
   "execution_count": 38,
   "id": "55e98c4f-6afc-4ebd-8bf3-cd1da5b4f586",
   "metadata": {},
   "outputs": [],
   "source": [
    "from pdfminer.high_level import extract_text_to_fp\n"
   ]
  },
  {
   "cell_type": "code",
   "execution_count": 45,
   "id": "a1d6a254-b2aa-4027-a416-d1b7b2f82ba8",
   "metadata": {},
   "outputs": [],
   "source": [
    "from io import BytesIO\n",
    "output = BytesIO()\n",
    "file_like = open('../../samples/RFP/WAK2033/K2033 response from CRE8 Independent Consulant.pdf', 'rb')\n",
    "extract_text_to_fp(file_like, output, output_type='html', page_numbers=[6])"
   ]
  },
  {
   "cell_type": "code",
   "execution_count": 46,
   "id": "b0e6c4cb-a43e-461f-8d94-5b699c426956",
   "metadata": {},
   "outputs": [
    {
     "data": {
      "text/plain": [
       "<_io.BytesIO at 0x2b4f6af8a40>"
      ]
     },
     "execution_count": 46,
     "metadata": {},
     "output_type": "execute_result"
    }
   ],
   "source": [
    "output"
   ]
  },
  {
   "cell_type": "code",
   "execution_count": 47,
   "id": "68dffebb-c61c-471e-8ef9-b26c79a96942",
   "metadata": {},
   "outputs": [],
   "source": [
    "content = output.getvalue().decode('utf-8')"
   ]
  },
  {
   "cell_type": "code",
   "execution_count": 48,
   "id": "f9b86326-b218-4134-b4e8-af43879bcd18",
   "metadata": {},
   "outputs": [
    {
     "data": {
      "text/plain": [
       "'<html><head>\\n<meta http-equiv=\"Content-Type\" content=\"text/html; charset=utf-8\">\\n</head><body>\\n<span style=\"position:absolute; border: gray 1px solid; left:0px; top:50px; width:612px; height:792px;\"></span>\\n<div style=\"position:absolute; top:50px;\"><a name=\"1\">Page 1</a></div>\\n<span style=\"font-family: TimesNewRomanPSMT; font-size:12px\">  </span><span style=\"font-family: TimesNewRomanPS-BoldMT; font-size:8px\">    CRE8 RESPONSE TO DOR RFP DOR K2033 ECM ASSESSMENT                                                                                                   2/24/2022 <span style=\"position:absolute; border: black 1px solid; left:54px; top:95px; width:466px; height:0px;\"></span>\\n</span><span style=\"font-family: TimesNewRomanPSMT; font-size:15px\">                                <span style=\"position:absolute; border: black 1px solid; left:54px; top:783px; width:468px; height:0px;\"></span>\\n</span><span style=\"font-family: BookAntiqua; font-size:8px\">                        </span><span style=\"font-family: BookAntiqua; font-size:6px\">INCORPORATED </span><span style=\"font-family: TimesNewRomanPSMT; font-size:6px\">INDEPENDENT CONSULTANTS                                      </span><span style=\"font-family: TimesNewRomanPSMT; font-size:9px\">                                                            Page - 7 </span><span style=\"font-family: TimesNewRomanPSMT; font-size:9px\"> </span><span style=\"font-family: TimesNewRomanPSMT; font-size:9px\"> </span><span style=\"font-family: TimesNewRomanPSMT; font-size:12px\"> </span><span style=\"font-family: TimesNewRomanPSMT; font-size:0px\"> <div style=\"position:absolute; border: figure 1px solid; writing-mode:False; left:53px; top:785px; width:51px; height:15px;\"></div></span><span style=\"font-family: Calibri-Bold; font-size:12px\">2</span><span style=\"font-family: Calibri-Bold; font-size:9px\">.</span><span style=\"font-family: Calibri-Bold; font-size:8px\">  </span><span style=\"font-family: Calibri-Bold; font-size:9px\">S</span><span style=\"font-family: Calibri-Bold; font-size:8px\">UBCONTRACTOR</span><span style=\"font-family: Calibri-Bold; font-size:9px\">.</span><span style=\"font-family: Calibri-Bold; font-size:8px\"> </span><span style=\"font-family: Calibri; font-size:9px\">I</span><span style=\"font-family: Calibri; font-size:8px\">F </span><span style=\"font-family: Calibri; font-size:9px\">V</span><span style=\"font-family: Calibri; font-size:8px\">ENDOR IS PLANNING TO USE SUBCONTRACTOR</span><span style=\"font-family: Calibri; font-size:9px\">(</span><span style=\"font-family: Calibri; font-size:8px\">S</span><span style=\"font-family: Calibri; font-size:9px\">)</span><span style=\"font-family: Calibri; font-size:8px\"> FOR ANY PART OF THIS SCOPE OF WORK</span><span style=\"font-family: Calibri; font-size:9px\">,</span><span style=\"font-family: Calibri; font-size:8px\"> COMPLETE THIS SECTION</span><span style=\"font-family: Calibri; font-size:9px\">.</span><span style=\"font-family: Calibri; font-size:8px\">  </span><span style=\"font-family: Calibri; font-size:9px\">DOR</span><span style=\"font-family: Calibri; font-size:8px\"> RESERVES THE RIGHT TO REQUEST ADDITIONAL INFORMATION FOR ANY PROPOSED SUBCONTRACTORS</span><span style=\"font-family: Calibri; font-size:9px\">.</span><span style=\"font-family: Calibri; font-size:8px\">  </span><span style=\"font-family: Calibri; font-size:9px\">B</span><span style=\"font-family: Calibri; font-size:8px\">Y INCLUDING SUBCONTRACTOR</span><span style=\"font-family: Calibri; font-size:9px\">(</span><span style=\"font-family: Calibri; font-size:8px\">S</span><span style=\"font-family: Calibri; font-size:9px\">)</span><span style=\"font-family: Calibri; font-size:8px\"> AS PART OF YOUR PROPOSAL</span><span style=\"font-family: Calibri; font-size:9px\">,</span><span style=\"font-family: Calibri; font-size:8px\"> </span><span style=\"font-family: Calibri; font-size:9px\">V</span><span style=\"font-family: Calibri; font-size:8px\">ENDOR AGREES TO ASSUME RESPONSIBILITY FOR ALL CONTRACT OBLIGATIONS AND ANY LIABILITY FOR ALL ACTIONS OF SUBCONTRACTORS</span><span style=\"font-family: Calibri; font-size:9px\">.  <span style=\"position:absolute; border: black 1px solid; left:48px; top:182px; width:497px; height:13px;\"></span>\\nA</span><span style=\"font-family: Calibri; font-size:8px\">DD ROWS IF MULTIPLE SUBCONTRACTORS ARE ANTICIPATED</span><span style=\"font-family: Calibri; font-size:9px\">. <span style=\"position:absolute; border: black 1px solid; left:48px; top:182px; width:0px; height:0px;\"></span>\\n<span style=\"position:absolute; border: black 1px solid; left:48px; top:182px; width:0px; height:0px;\"></span>\\n<span style=\"position:absolute; border: black 1px solid; left:48px; top:182px; width:497px; height:0px;\"></span>\\n<span style=\"position:absolute; border: black 1px solid; left:545px; top:182px; width:0px; height:0px;\"></span>\\n<span style=\"position:absolute; border: black 1px solid; left:545px; top:182px; width:0px; height:0px;\"></span>\\n<span style=\"position:absolute; border: black 1px solid; left:48px; top:182px; width:0px; height:13px;\"></span>\\n<span style=\"position:absolute; border: black 1px solid; left:545px; top:182px; width:0px; height:13px;\"></span>\\n<span style=\"position:absolute; border: black 1px solid; left:48px; top:195px; width:497px; height:14px;\"></span>\\n</span><span style=\"font-family: Calibri-Bold; font-size:9px\">I</span><span style=\"font-family: Calibri-Bold; font-size:8px\">F </span><span style=\"font-family: Calibri-Bold; font-size:9px\">V</span><span style=\"font-family: Calibri-Bold; font-size:8px\">ENDOR WILL NOT BE USING ANY SUBCONTRACTORS</span><span style=\"font-family: Calibri-Bold; font-size:9px\">,</span><span style=\"font-family: Calibri-Bold; font-size:8px\"> CHECK HERE </span><span style=\"font-family: SegoeUISymbol; font-size:9px\">☐</span><span style=\"font-family: Calibri; font-size:9px\"> <span style=\"position:absolute; border: black 1px solid; left:48px; top:210px; width:0px; height:0px;\"></span>\\n<span style=\"position:absolute; border: black 1px solid; left:48px; top:210px; width:0px; height:0px;\"></span>\\n<span style=\"position:absolute; border: black 1px solid; left:48px; top:210px; width:497px; height:0px;\"></span>\\n<span style=\"position:absolute; border: black 1px solid; left:545px; top:210px; width:0px; height:0px;\"></span>\\n<span style=\"position:absolute; border: black 1px solid; left:545px; top:210px; width:0px; height:0px;\"></span>\\n<span style=\"position:absolute; border: black 1px solid; left:48px; top:195px; width:0px; height:14px;\"></span>\\n<span style=\"position:absolute; border: black 1px solid; left:545px; top:195px; width:0px; height:14px;\"></span>\\n</span><span style=\"font-family: Calibri-Bold; font-size:9px\">Subcontractor Company Name </span><span style=\"font-family: Calibri; font-size:9px\">Imerge Consulting (Independent Consultants) <span style=\"position:absolute; border: black 1px solid; left:48px; top:210px; width:0px; height:0px;\"></span>\\n<span style=\"position:absolute; border: black 1px solid; left:48px; top:210px; width:0px; height:0px;\"></span>\\n<span style=\"position:absolute; border: black 1px solid; left:48px; top:210px; width:112px; height:0px;\"></span>\\n<span style=\"position:absolute; border: black 1px solid; left:161px; top:210px; width:0px; height:0px;\"></span>\\n<span style=\"position:absolute; border: black 1px solid; left:162px; top:210px; width:382px; height:0px;\"></span>\\n<span style=\"position:absolute; border: black 1px solid; left:544px; top:210px; width:0px; height:0px;\"></span>\\n<span style=\"position:absolute; border: black 1px solid; left:544px; top:210px; width:0px; height:0px;\"></span>\\n<span style=\"position:absolute; border: black 1px solid; left:48px; top:211px; width:0px; height:24px;\"></span>\\n<span style=\"position:absolute; border: black 1px solid; left:161px; top:211px; width:0px; height:24px;\"></span>\\n<span style=\"position:absolute; border: black 1px solid; left:544px; top:211px; width:0px; height:24px;\"></span>\\n</span><span style=\"font-family: Calibri-Bold; font-size:9px\">Brief description of subcontractor company </span><span style=\"font-family: Calibri; font-size:9px\">For over 20 years, Imerge Consulting has been a vendor-neutral consulting company providing ECM information governance assessments &amp; strategy, records &amp; information management, technology &amp; vendor selection, and digital content remediation. Imerge and CRE8 have worked together on many ECM assessment and planning projects (including in the State of Washington).  The firms bring DOR senior ECM governance, records management, compliance, technology, and process improvement expertise.  <span style=\"position:absolute; border: black 1px solid; left:48px; top:235px; width:0px; height:0px;\"></span>\\n<span style=\"position:absolute; border: black 1px solid; left:48px; top:235px; width:112px; height:0px;\"></span>\\n<span style=\"position:absolute; border: black 1px solid; left:161px; top:235px; width:0px; height:0px;\"></span>\\n<span style=\"position:absolute; border: black 1px solid; left:162px; top:235px; width:382px; height:0px;\"></span>\\n<span style=\"position:absolute; border: black 1px solid; left:544px; top:235px; width:0px; height:0px;\"></span>\\n<span style=\"position:absolute; border: black 1px solid; left:48px; top:236px; width:0px; height:73px;\"></span>\\n<span style=\"position:absolute; border: black 1px solid; left:161px; top:236px; width:0px; height:73px;\"></span>\\n<span style=\"position:absolute; border: black 1px solid; left:544px; top:236px; width:0px; height:73px;\"></span>\\n</span><span style=\"font-family: Calibri-Bold; font-size:9px\">Name(s) of consultant(s) </span><span style=\"font-family: Calibri-Bold; font-size:9px\">provided by </span><span style=\"font-family: Calibri-Bold; font-size:9px\">subcontractor company. </span><span style=\"font-family: Calibri; font-size:9px\">Charmaine Brooks, Certified Records Manager (CRM), Partner.  Charmaine has over 25 </span><span style=\"font-family: Calibri; font-size:9px\">years of experience providing ECM information governance assessments &amp; strategy, </span><span style=\"font-family: Calibri; font-size:9px\">records &amp; information management, technology &amp; vendor selection, and digital content remediation. <span style=\"position:absolute; border: black 1px solid; left:48px; top:309px; width:0px; height:0px;\"></span>\\n<span style=\"position:absolute; border: black 1px solid; left:48px; top:309px; width:112px; height:0px;\"></span>\\n<span style=\"position:absolute; border: black 1px solid; left:161px; top:309px; width:0px; height:0px;\"></span>\\n<span style=\"position:absolute; border: black 1px solid; left:162px; top:309px; width:382px; height:0px;\"></span>\\n<span style=\"position:absolute; border: black 1px solid; left:544px; top:309px; width:0px; height:0px;\"></span>\\n<span style=\"position:absolute; border: black 1px solid; left:48px; top:309px; width:0px; height:48px;\"></span>\\n<span style=\"position:absolute; border: black 1px solid; left:161px; top:309px; width:0px; height:48px;\"></span>\\n<span style=\"position:absolute; border: black 1px solid; left:544px; top:309px; width:0px; height:48px;\"></span>\\n</span><span style=\"font-family: Calibri-Bold; font-size:9px\">Describe the work to be performed by the subcontracted consultant(s) </span><span style=\"font-family: Calibri; font-size:9px\">Charmaine Brooks, CRM will work with George Dunn, President of CRE8 Independent Consultants in the planning, assessment, interview, and report writing phases of the project. Charmaine will function as the information governance, records management, and compliance subject matter expert. Charmaine has assisted many State of Washington government organizations and is knowledgeable regarding Washington State IG/Records management regulations and requirements.</span><span style=\"font-family: Calibri-Italic; font-size:9px\"> </span><span style=\"font-family: Calibri; font-size:9px\"> <span style=\"position:absolute; border: black 1px solid; left:48px; top:358px; width:0px; height:0px;\"></span>\\n<span style=\"position:absolute; border: black 1px solid; left:48px; top:358px; width:112px; height:0px;\"></span>\\n<span style=\"position:absolute; border: black 1px solid; left:161px; top:358px; width:0px; height:0px;\"></span>\\n<span style=\"position:absolute; border: black 1px solid; left:162px; top:358px; width:382px; height:0px;\"></span>\\n<span style=\"position:absolute; border: black 1px solid; left:544px; top:358px; width:0px; height:0px;\"></span>\\n<span style=\"position:absolute; border: black 1px solid; left:48px; top:359px; width:0px; height:73px;\"></span>\\n<span style=\"position:absolute; border: black 1px solid; left:161px; top:359px; width:0px; height:73px;\"></span>\\n<span style=\"position:absolute; border: black 1px solid; left:544px; top:359px; width:0px; height:73px;\"></span>\\n</span><span style=\"font-family: Calibri-Bold; font-size:9px\">Describe strategies the Vendor will use to manage and monitor the work to be completed by the subcontracted consultant(s) </span><span style=\"font-family: Calibri; font-size:9px\">George Dunn, President of CRE8 will work with Charmaine Brooks during all phases of the project.  Together they will discuss observations, findings and recommendations.  Progress, results and work completed will be communicated in weekly project management updates to DOR.  Draft deliverable and report findings will be provided to DOR for review and approval.  <span style=\"position:absolute; border: black 1px solid; left:48px; top:432px; width:0px; height:0px;\"></span>\\n<span style=\"position:absolute; border: black 1px solid; left:48px; top:432px; width:112px; height:0px;\"></span>\\n<span style=\"position:absolute; border: black 1px solid; left:161px; top:432px; width:0px; height:0px;\"></span>\\n<span style=\"position:absolute; border: black 1px solid; left:162px; top:432px; width:382px; height:0px;\"></span>\\n<span style=\"position:absolute; border: black 1px solid; left:544px; top:432px; width:0px; height:0px;\"></span>\\n<span style=\"position:absolute; border: black 1px solid; left:48px; top:432px; width:0px; height:85px;\"></span>\\n<span style=\"position:absolute; border: black 1px solid; left:48px; top:518px; width:0px; height:0px;\"></span>\\n<span style=\"position:absolute; border: black 1px solid; left:48px; top:518px; width:0px; height:0px;\"></span>\\n<span style=\"position:absolute; border: black 1px solid; left:48px; top:518px; width:112px; height:0px;\"></span>\\n<span style=\"position:absolute; border: black 1px solid; left:161px; top:432px; width:0px; height:85px;\"></span>\\n<span style=\"position:absolute; border: black 1px solid; left:161px; top:518px; width:0px; height:0px;\"></span>\\n<span style=\"position:absolute; border: black 1px solid; left:162px; top:518px; width:382px; height:0px;\"></span>\\n<span style=\"position:absolute; border: black 1px solid; left:544px; top:432px; width:0px; height:85px;\"></span>\\n<span style=\"position:absolute; border: black 1px solid; left:544px; top:518px; width:0px; height:0px;\"></span>\\n<span style=\"position:absolute; border: black 1px solid; left:544px; top:518px; width:0px; height:0px;\"></span>\\n</span><span style=\"font-family: TimesNewRomanPSMT; font-size:12px\"> <span style=\"position:absolute; border: black 1px solid; left:48px; top:533px; width:501px; height:28px;\"></span>\\n<span style=\"position:absolute; border: black 1px solid; left:53px; top:533px; width:491px; height:14px;\"></span>\\n<span style=\"position:absolute; border: black 1px solid; left:52px; top:533px; width:494px; height:14px;\"></span>\\n</span><span style=\"font-family: Calibri-Bold; font-size:9px\">2A.  S</span><span style=\"font-family: Calibri-Bold; font-size:8px\">UPPORTING </span><span style=\"font-family: Calibri-Bold; font-size:9px\">D</span><span style=\"font-family: Calibri-Bold; font-size:8px\">IVERSE </span><span style=\"font-family: Calibri-Bold; font-size:9px\">V</span><span style=\"font-family: Calibri-Bold; font-size:8px\">ENDOR </span><span style=\"font-family: Calibri-Bold; font-size:9px\">P</span><span style=\"font-family: Calibri-Bold; font-size:8px\">OOL </span><span style=\"font-family: Calibri-Bold; font-size:9px\">–</span><span style=\"font-family: Calibri-Bold; font-size:9px\"> C</span><span style=\"font-family: Calibri-Bold; font-size:8px\">ERTIFICATIONS</span><span style=\"font-family: Calibri-Bold; font-size:9px\"> </span><span style=\"font-family: Calibri; font-size:8px\">PER SECTION </span><span style=\"font-family: Calibri; font-size:9px\">9</span><span style=\"font-family: Calibri; font-size:8px\">D OF THE WORK REQUEST</span><span style=\"font-family: Calibri; font-size:9px\">,</span><span style=\"font-family: Calibri; font-size:8px\"> PROVIDE THE <span style=\"position:absolute; border: black 1px solid; left:53px; top:547px; width:491px; height:14px;\"></span>\\n<span style=\"position:absolute; border: black 1px solid; left:52px; top:547px; width:494px; height:14px;\"></span>\\nINFORMATION REQUESTED IN THIS SECTION FOR EACH SUBCONTRACTOR INCLUDED IN THE PROPOSAL</span><span style=\"font-family: Calibri; font-size:9px\">.</span><span style=\"font-family: Calibri; font-size:8px\">  </span><span style=\"font-family: Calibri; font-size:9px\"> <span style=\"position:absolute; border: black 1px solid; left:48px; top:532px; width:0px; height:0px;\"></span>\\n<span style=\"position:absolute; border: black 1px solid; left:48px; top:532px; width:0px; height:0px;\"></span>\\n<span style=\"position:absolute; border: black 1px solid; left:48px; top:532px; width:501px; height:0px;\"></span>\\n<span style=\"position:absolute; border: black 1px solid; left:550px; top:532px; width:0px; height:0px;\"></span>\\n<span style=\"position:absolute; border: black 1px solid; left:550px; top:532px; width:0px; height:0px;\"></span>\\n<span style=\"position:absolute; border: black 1px solid; left:48px; top:533px; width:0px; height:28px;\"></span>\\n<span style=\"position:absolute; border: black 1px solid; left:550px; top:533px; width:0px; height:28px;\"></span>\\n</span><span style=\"font-family: Calibri-Bold; font-size:9px\">Imerge Consulting </span><span style=\"font-family: Calibri; font-size:9px\"> <span style=\"position:absolute; border: black 1px solid; left:48px; top:561px; width:0px; height:0px;\"></span>\\n<span style=\"position:absolute; border: black 1px solid; left:48px; top:561px; width:217px; height:0px;\"></span>\\n<span style=\"position:absolute; border: black 1px solid; left:266px; top:561px; width:0px; height:0px;\"></span>\\n<span style=\"position:absolute; border: black 1px solid; left:266px; top:561px; width:283px; height:0px;\"></span>\\n<span style=\"position:absolute; border: black 1px solid; left:550px; top:561px; width:0px; height:0px;\"></span>\\n<span style=\"position:absolute; border: black 1px solid; left:48px; top:561px; width:0px; height:20px;\"></span>\\n<span style=\"position:absolute; border: black 1px solid; left:266px; top:561px; width:0px; height:20px;\"></span>\\n<span style=\"position:absolute; border: black 1px solid; left:550px; top:561px; width:0px; height:20px;\"></span>\\n</span><span style=\"font-family: Calibri-Bold; font-size:9px\">Is your firm certified with the Washington State </span><span style=\"font-family: Calibri-Bold; font-size:9px\">Office of Minority &amp; Women’s Business </span><span style=\"font-family: Calibri-Bold; font-size:9px\">Enterprises? </span><span style=\"font-family: Calibri; font-size:9px\">https://omwbe.wa.gov/ <span style=\"position:absolute; border: black 1px solid; left:53px; top:635px; width:97px; height:0px;\"></span>\\n</span><span style=\"font-family: Calibri; font-size:9px\">Yes <span style=\"position:absolute; border: black 1px solid; left:289px; top:583px; width:9px; height:9px;\"></span>\\n  No X </span><span style=\"font-family: Calibri; font-size:9px\">If yes, provide MWBE Certification No:  _______   <span style=\"position:absolute; border: black 1px solid; left:48px; top:581px; width:0px; height:0px;\"></span>\\n<span style=\"position:absolute; border: black 1px solid; left:48px; top:581px; width:217px; height:0px;\"></span>\\n<span style=\"position:absolute; border: black 1px solid; left:266px; top:581px; width:0px; height:0px;\"></span>\\n<span style=\"position:absolute; border: black 1px solid; left:266px; top:581px; width:283px; height:0px;\"></span>\\n<span style=\"position:absolute; border: black 1px solid; left:550px; top:581px; width:0px; height:0px;\"></span>\\n<span style=\"position:absolute; border: black 1px solid; left:48px; top:582px; width:0px; height:56px;\"></span>\\n<span style=\"position:absolute; border: black 1px solid; left:266px; top:582px; width:0px; height:56px;\"></span>\\n<span style=\"position:absolute; border: black 1px solid; left:550px; top:582px; width:0px; height:56px;\"></span>\\n</span><span style=\"font-family: Calibri-Bold; font-size:9px\">Is your firm a self-certified Washington State small, mini, or micro-business as defined by  RCW 39.26.010? <span style=\"position:absolute; border: black 1px solid; left:53px; top:677px; width:63px; height:0px;\"></span>\\n </span><span style=\"font-family: Calibri; font-size:9px\">Yes <span style=\"position:absolute; border: black 1px solid; left:289px; top:640px; width:9px; height:9px;\"></span>\\n  No X If yes, what is your business size?   Small <span style=\"position:absolute; border: black 1px solid; left:333px; top:680px; width:9px; height:9px;\"></span>\\n  Mini <span style=\"position:absolute; border: black 1px solid; left:370px; top:680px; width:9px; height:9px;\"></span>\\n  Micro <span style=\"position:absolute; border: black 1px solid; left:413px; top:680px; width:9px; height:9px;\"></span>\\n <span style=\"position:absolute; border: black 1px solid; left:48px; top:638px; width:0px; height:0px;\"></span>\\n<span style=\"position:absolute; border: black 1px solid; left:48px; top:638px; width:217px; height:0px;\"></span>\\n<span style=\"position:absolute; border: black 1px solid; left:266px; top:638px; width:0px; height:0px;\"></span>\\n<span style=\"position:absolute; border: black 1px solid; left:266px; top:638px; width:283px; height:0px;\"></span>\\n<span style=\"position:absolute; border: black 1px solid; left:550px; top:638px; width:0px; height:0px;\"></span>\\n<span style=\"position:absolute; border: black 1px solid; left:48px; top:639px; width:0px; height:60px;\"></span>\\n<span style=\"position:absolute; border: black 1px solid; left:266px; top:639px; width:0px; height:60px;\"></span>\\n<span style=\"position:absolute; border: black 1px solid; left:550px; top:639px; width:0px; height:60px;\"></span>\\n</span><span style=\"font-family: Calibri-Bold; font-size:9px\">Is your firm certified as Veteran Owned with </span><span style=\"font-family: Calibri-Bold; font-size:9px\">Washington State Department of Veteran Affairs? </span><span style=\"font-family: TimesNewRomanPSMT; font-size:9px\">https://dva.wa.gov </span><span style=\"font-family: Calibri; font-size:9px\"> <span style=\"position:absolute; border: black 1px solid; left:87px; top:738px; width:74px; height:0px;\"></span>\\n</span><span style=\"font-family: Calibri; font-size:9px\">Yes <span style=\"position:absolute; border: black 1px solid; left:289px; top:700px; width:9px; height:9px;\"></span>\\n  No X </span><span style=\"font-family: Calibri; font-size:9px\">If yes, provide WSDVA Certification No.:  ______   <span style=\"position:absolute; border: black 1px solid; left:48px; top:699px; width:0px; height:0px;\"></span>\\n<span style=\"position:absolute; border: black 1px solid; left:48px; top:699px; width:217px; height:0px;\"></span>\\n<span style=\"position:absolute; border: black 1px solid; left:266px; top:699px; width:0px; height:0px;\"></span>\\n<span style=\"position:absolute; border: black 1px solid; left:266px; top:699px; width:283px; height:0px;\"></span>\\n<span style=\"position:absolute; border: black 1px solid; left:550px; top:699px; width:0px; height:0px;\"></span>\\n<span style=\"position:absolute; border: black 1px solid; left:48px; top:699px; width:0px; height:51px;\"></span>\\n<span style=\"position:absolute; border: black 1px solid; left:48px; top:751px; width:0px; height:0px;\"></span>\\n<span style=\"position:absolute; border: black 1px solid; left:48px; top:751px; width:0px; height:0px;\"></span>\\n<span style=\"position:absolute; border: black 1px solid; left:48px; top:751px; width:217px; height:0px;\"></span>\\n<span style=\"position:absolute; border: black 1px solid; left:266px; top:699px; width:0px; height:51px;\"></span>\\n<span style=\"position:absolute; border: black 1px solid; left:266px; top:751px; width:0px; height:0px;\"></span>\\n<span style=\"position:absolute; border: black 1px solid; left:266px; top:751px; width:283px; height:0px;\"></span>\\n<span style=\"position:absolute; border: black 1px solid; left:550px; top:699px; width:0px; height:51px;\"></span>\\n<span style=\"position:absolute; border: black 1px solid; left:550px; top:751px; width:0px; height:0px;\"></span>\\n<span style=\"position:absolute; border: black 1px solid; left:550px; top:751px; width:0px; height:0px;\"></span>\\n<div style=\"position:absolute; top:0px;\">Page: <a href=\"#1\">1</a></div>\\n</body></html>\\n'"
      ]
     },
     "execution_count": 48,
     "metadata": {},
     "output_type": "execute_result"
    }
   ],
   "source": [
    "content"
   ]
  },
  {
   "cell_type": "code",
   "execution_count": null,
   "id": "11d6faf2-f926-4999-83f4-33f281f51cbd",
   "metadata": {},
   "outputs": [],
   "source": []
  },
  {
   "cell_type": "code",
   "execution_count": null,
   "id": "b9017840-6505-47ee-bcdd-910ee12b2c8e",
   "metadata": {},
   "outputs": [],
   "source": []
  },
  {
   "cell_type": "code",
   "execution_count": null,
   "id": "e469b3b4-d624-49bc-909f-9c8c761213bd",
   "metadata": {},
   "outputs": [],
   "source": []
  },
  {
   "cell_type": "code",
   "execution_count": null,
   "id": "20de5262-2567-4405-8895-648e49f9f409",
   "metadata": {},
   "outputs": [],
   "source": []
  },
  {
   "cell_type": "code",
   "execution_count": 1,
   "id": "905d824d-50ad-44c3-b2f1-b671e33ab933",
   "metadata": {},
   "outputs": [],
   "source": [
    "import fitz\n",
    "import pathlib"
   ]
  },
  {
   "cell_type": "code",
   "execution_count": 20,
   "id": "d2635dea-4d91-4ee1-8309-f013f804e803",
   "metadata": {},
   "outputs": [],
   "source": [
    "#fname = '/mnt/c/Users/riguy/code/financeExplorer/samples/RFP/NewBrunswick/DIGITAL TRANSFORMATION SNB.CA.pdf'\n",
    "#fname = \"../../samples/RFP/Utah/GSS_14579DataComm_rfp.pdf\"\n",
    "#fname = \"../../samples/RFP/OneWATesting/23-700_OneWA_Workday Testing Services_f.pdf\"\n",
    "fname = \"../../samples/RFP/WAK2033/K2033 response from CRE8 Independent Consulant.pdf\"\n",
    "\n",
    "# with fitz.open(fname) as doc:  # open document\n",
    "#     text = ' '.join([page.get_text() for page in doc])\n",
    "# # write as a binary file to support non-ASCII characters\n",
    "# pathlib.Path(\"/mnt/c/tmp/out.txt\").write_bytes(text.encode())\n"
   ]
  },
  {
   "cell_type": "code",
   "execution_count": null,
   "id": "5a2d18a9-0a94-4137-bb7a-868305914a33",
   "metadata": {},
   "outputs": [],
   "source": []
  },
  {
   "cell_type": "code",
   "execution_count": 23,
   "id": "9818359a-5a2c-4616-a5dd-2e98bbe12004",
   "metadata": {},
   "outputs": [
    {
     "name": "stdout",
     "output_type": "stream",
     "text": [
      "\n",
      "Text: ' '\n",
      "Font: 'TimesNewRomanPSMT' (serifed, proportional), size 12, color #000000\n",
      "-------newline----------\n",
      "\n",
      "Text: ' '\n",
      "Font: 'TimesNewRomanPSMT' (serifed, proportional), size 12, color #000000\n",
      "-------newline----------\n",
      "\n",
      "Text: ' '\n",
      "Font: 'TimesNewRomanPS-BoldMT' (serifed, proportional, bold), size 8.04, color #000000\n",
      "-------newline----------\n",
      "\n",
      "Text: ' '\n",
      "Font: 'TimesNewRomanPS-BoldMT' (serifed, proportional, bold), size 8.04, color #000000\n",
      "-------newline----------\n",
      "\n",
      "Text: ' '\n",
      "Font: 'TimesNewRomanPS-BoldMT' (serifed, proportional, bold), size 8.04, color #000000\n",
      "-------newline----------\n",
      "\n",
      "Text: ' '\n",
      "Font: 'TimesNewRomanPS-BoldMT' (serifed, proportional, bold), size 8.04, color #000000\n",
      "-------newline----------\n",
      "\n",
      "Text: 'CRE8 RESPONSE TO DOR RFP DOR K2033 ECM ASSESSMENT                                                                                                   2/24/2022 '\n",
      "Font: 'TimesNewRomanPS-BoldMT' (serifed, proportional, bold), size 8.04, color #000000\n",
      "-------newline----------\n",
      "\n",
      "Text: '               '\n",
      "Font: 'TimesNewRomanPSMT' (serifed, proportional), size 15.96, color #000000\n",
      "-------newline----------\n",
      "\n",
      "Text: ' '\n",
      "Font: 'TimesNewRomanPSMT' (serifed, proportional), size 15.96, color #000000\n",
      "-------newline----------\n",
      "\n",
      "Text: ' '\n",
      "Font: 'TimesNewRomanPSMT' (serifed, proportional), size 15.96, color #000000\n",
      "-------newline----------\n",
      "\n",
      "Text: '               '\n",
      "Font: 'TimesNewRomanPSMT' (serifed, proportional), size 15.96, color #000000\n",
      "-------newline----------\n",
      "\n",
      "Text: '                      '\n",
      "Font: 'BookAntiqua' (serifed, proportional), size 8.04, color #000000\n",
      "-------newline----------\n",
      "\n",
      "Text: '  '\n",
      "Font: 'BookAntiqua' (serifed, proportional), size 8.04, color #000000\n",
      "\n",
      "Text: 'INCORPORATED '\n",
      "Font: 'BookAntiqua' (serifed, proportional), size 6.96, color #000000\n",
      "\n",
      "Text: 'INDEPENDENT CONSULTANTS                                      '\n",
      "Font: 'TimesNewRomanPSMT' (serifed, proportional), size 6.96, color #000000\n",
      "\n",
      "Text: '                                                            Page - 3 '\n",
      "Font: 'TimesNewRomanPSMT' (serifed, proportional), size 9.96, color #000000\n",
      "-------newline----------\n",
      "\n",
      "Text: ' '\n",
      "Font: 'TimesNewRomanPSMT' (serifed, proportional), size 9.96, color #000000\n",
      "-------newline----------\n",
      "\n",
      "Text: ' '\n",
      "Font: 'TimesNewRomanPSMT' (serifed, proportional), size 9.96, color #000000\n",
      "-------newline----------\n",
      "\n",
      "Text: ' '\n",
      "Font: 'TimesNewRomanPSMT' (serifed, proportional), size 12, color #000000\n",
      "-------newline----------\n",
      "\n",
      "Text: ' '\n",
      "Font: 'TimesNewRomanPSMT' (serifed, proportional), size 0.96, color #000000\n",
      "-------newline----------\n",
      "\n",
      "Text: ' '\n",
      "Font: 'TimesNewRomanPS-BoldMT' (serifed, proportional, bold), size 12, color #000000\n",
      "-------newline----------\n",
      "\n",
      "Text: 'A.'\n",
      "Font: 'TimesNewRomanPSMT' (serifed, proportional), size 11.04, color #000000\n",
      "\n",
      "Text: ' '\n",
      "Font: 'ArialMT' (sans, proportional), size 11.04, color #000000\n",
      "\n",
      "Text: 'Executive Summary. '\n",
      "Font: 'TimesNewRomanPS-BoldMT' (serifed, proportional, bold), size 12, color #000000\n",
      "\n",
      "Text: 'Provide an Executive Summary which includes the following information '\n",
      "Font: 'TimesNewRomanPSMT' (serifed, proportional), size 11.04, color #000000\n",
      "-------newline----------\n",
      "\n",
      "Text: 'stated in a concise manner and formatted to facilitate review of the material:  '\n",
      "Font: 'TimesNewRomanPSMT' (serifed, proportional), size 11.04, color #000000\n",
      "-------newline----------\n",
      "\n",
      "Text: '•'\n",
      "Font: 'SymbolMT' (sans, proportional), size 9.96, color #000000\n",
      "\n",
      "Text: ' '\n",
      "Font: 'ArialMT' (sans, proportional), size 9.96, color #000000\n",
      "-------newline----------\n",
      "\n",
      "Text: 'Introductory remarks,  '\n",
      "Font: 'TimesNewRomanPSMT' (serifed, proportional), size 11.04, color #000000\n",
      "-------newline----------\n",
      "\n",
      "Text: '•'\n",
      "Font: 'SymbolMT' (sans, proportional), size 9.96, color #000000\n",
      "\n",
      "Text: ' '\n",
      "Font: 'ArialMT' (sans, proportional), size 9.96, color #000000\n",
      "-------newline----------\n",
      "\n",
      "Text: 'Brief summary of Vendor's and Consultant's experience and history providing ECM assessment '\n",
      "Font: 'TimesNewRomanPSMT' (serifed, proportional), size 11.04, color #000000\n",
      "-------newline----------\n",
      "\n",
      "Text: 'services similar to this Scope of Work,  '\n",
      "Font: 'TimesNewRomanPSMT' (serifed, proportional), size 11.04, color #000000\n",
      "-------newline----------\n",
      "\n",
      "Text: '•'\n",
      "Font: 'SymbolMT' (sans, proportional), size 9.96, color #000000\n",
      "\n",
      "Text: ' '\n",
      "Font: 'ArialMT' (sans, proportional), size 9.96, color #000000\n",
      "-------newline----------\n",
      "\n",
      "Text: 'Date Vendor and Consultant(s) are available to start work, and  '\n",
      "Font: 'TimesNewRomanPSMT' (serifed, proportional), size 11.04, color #000000\n",
      "-------newline----------\n",
      "\n",
      "Text: '•'\n",
      "Font: 'SymbolMT' (sans, proportional), size 9.96, color #000000\n",
      "\n",
      "Text: ' '\n",
      "Font: 'ArialMT' (sans, proportional), size 9.96, color #000000\n",
      "-------newline----------\n",
      "\n",
      "Text: 'Name, title and signature of person with authority to enter into a Contract on behalf of the Vendor.  '\n",
      "Font: 'TimesNewRomanPSMT' (serifed, proportional), size 11.04, color #000000\n",
      "-------newline----------\n",
      "\n",
      "Text: 'Limit the Executive Summary to one page. '\n",
      "Font: 'TimesNewRomanPSMT' (serifed, proportional), size 11.04, color #000000\n",
      "-------newline----------\n",
      "\n",
      "Text: ' '\n",
      "Font: 'TimesNewRomanPSMT' (serifed, proportional), size 11.04, color #000000\n",
      "-------newline----------\n",
      "\n",
      "Text: '➢'\n",
      "Font: 'Wingdings-Regular' (sans, proportional), size 11.04, color #000000\n",
      "\n",
      "Text: ' '\n",
      "Font: 'ArialMT' (sans, proportional), size 11.04, color #000000\n",
      "\n",
      "Text: 'CRE8 Response. See the following page.  '\n",
      "Font: 'TimesNewRomanPS-BoldMT' (serifed, proportional, bold), size 11.04, color #000000\n",
      "-------newline----------\n",
      "\n",
      "Text: ' '\n",
      "Font: 'TimesNewRomanPSMT' (serifed, proportional), size 11.04, color #000000\n",
      "-------newline----------\n",
      "\n",
      "Text: ' '\n",
      "Font: 'TimesNewRomanPSMT' (serifed, proportional), size 11.04, color #000000\n",
      "-------newline----------\n",
      "\n",
      "Text: ' '\n",
      "Font: 'TimesNewRomanPSMT' (serifed, proportional), size 11.04, color #000000\n",
      "-------newline----------\n"
     ]
    }
   ],
   "source": [
    "def flags_decomposer(flags):\n",
    "    \"\"\"Make font flags human readable.\"\"\"\n",
    "    l = []\n",
    "    if flags & 2 ** 0:\n",
    "        l.append(\"superscript\")\n",
    "    if flags & 2 ** 1:\n",
    "        l.append(\"italic\")\n",
    "    if flags & 2 ** 2:\n",
    "        l.append(\"serifed\")\n",
    "    else:\n",
    "        l.append(\"sans\")\n",
    "    if flags & 2 ** 3:\n",
    "        l.append(\"monospaced\")\n",
    "    else:\n",
    "        l.append(\"proportional\")\n",
    "    if flags & 2 ** 4:\n",
    "        l.append(\"bold\")\n",
    "    return \", \".join(l)\n",
    "\n",
    "\n",
    "doc = fitz.open(fname)\n",
    "page = doc[2]\n",
    "\n",
    "# read page text as a dictionary, suppressing extra spaces in CJK fonts\n",
    "blocks = page.get_text(\"dict\", flags=11)[\"blocks\"]\n",
    "for b in blocks:  # iterate through the text blocks\n",
    "    for l in b[\"lines\"]:  # iterate through the text lines\n",
    "        for s in l[\"spans\"]:  # iterate through the text spans\n",
    "            print(\"\")\n",
    "            font_properties = \"Font: '%s' (%s), size %g, color #%06x\" % (\n",
    "                s[\"font\"],  # font name\n",
    "                flags_decomposer(s[\"flags\"]),  # readable font flags\n",
    "                s[\"size\"],  # font size\n",
    "                s[\"color\"],  # font color\n",
    "            )\n",
    "            print(\"Text: '%s'\" % s[\"text\"])  # simple print of text\n",
    "            print(font_properties)\n",
    "        print(\"-------newline----------\")"
   ]
  },
  {
   "cell_type": "code",
   "execution_count": 24,
   "id": "70c69d6b-d1ef-4d04-a330-dd12753a824a",
   "metadata": {},
   "outputs": [
    {
     "data": {
      "text/plain": [
       "{'number': 0,\n",
       " 'type': 0,\n",
       " 'bbox': (72.02400207519531,\n",
       "  752.7239990234375,\n",
       "  456.70001220703125,\n",
       "  768.7319946289062),\n",
       " 'lines': [{'spans': [{'size': 12.0,\n",
       "     'flags': 4,\n",
       "     'font': 'TimesNewRomanPSMT',\n",
       "     'color': 0,\n",
       "     'ascender': 1.0529999732971191,\n",
       "     'descender': -0.2809999883174896,\n",
       "     'text': ' ',\n",
       "     'origin': (72.02400207519531, 765.3599853515625),\n",
       "     'bbox': (72.02400207519531,\n",
       "      752.7239990234375,\n",
       "      75.02400207519531,\n",
       "      768.7319946289062)}],\n",
       "   'wmode': 0,\n",
       "   'dir': (1.0, 0.0),\n",
       "   'bbox': (72.02400207519531,\n",
       "    752.7239990234375,\n",
       "    75.02400207519531,\n",
       "    768.7319946289062)},\n",
       "  {'spans': [{'size': 12.0,\n",
       "     'flags': 4,\n",
       "     'font': 'TimesNewRomanPSMT',\n",
       "     'color': 0,\n",
       "     'ascender': 1.0529999732971191,\n",
       "     'descender': -0.2809999883174896,\n",
       "     'text': ' ',\n",
       "     'origin': (453.70001220703125, 765.3599853515625),\n",
       "     'bbox': (453.70001220703125,\n",
       "      752.7239990234375,\n",
       "      456.70001220703125,\n",
       "      768.7319946289062)}],\n",
       "   'wmode': 0,\n",
       "   'dir': (1.0, 0.0),\n",
       "   'bbox': (453.70001220703125,\n",
       "    752.7239990234375,\n",
       "    456.70001220703125,\n",
       "    768.7319946289062)}]}"
      ]
     },
     "execution_count": 24,
     "metadata": {},
     "output_type": "execute_result"
    }
   ],
   "source": [
    "blocks[0]"
   ]
  },
  {
   "cell_type": "code",
   "execution_count": null,
   "id": "bae713e6-3821-480e-9939-6c55f13ccf42",
   "metadata": {},
   "outputs": [],
   "source": []
  }
 ],
 "metadata": {
  "kernelspec": {
   "display_name": "Python 3 (ipykernel)",
   "language": "python",
   "name": "python3"
  },
  "language_info": {
   "codemirror_mode": {
    "name": "ipython",
    "version": 3
   },
   "file_extension": ".py",
   "mimetype": "text/x-python",
   "name": "python",
   "nbconvert_exporter": "python",
   "pygments_lexer": "ipython3",
   "version": "3.11.4"
  }
 },
 "nbformat": 4,
 "nbformat_minor": 5
}
