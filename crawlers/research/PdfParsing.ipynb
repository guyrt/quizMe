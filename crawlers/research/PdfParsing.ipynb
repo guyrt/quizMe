{
 "cells": [
  {
   "cell_type": "code",
   "execution_count": 1,
   "id": "67bd5620-9b7e-4f9e-a3b0-b6bc6d69f741",
   "metadata": {},
   "outputs": [],
   "source": [
    "import pypdf"
   ]
  },
  {
   "cell_type": "code",
   "execution_count": 151,
   "id": "ea3e1496-14c6-4c1c-824a-0f257f1371c0",
   "metadata": {},
   "outputs": [],
   "source": [
    "reader = pypdf.PdfReader(\"../../samples/RFP/Utah/GSS_14579DataComm_rfp.pdf\")\n",
    "#RFP/NewBrunswick/DIGITAL TRANSFORMATION SNB.CA.pdf\")\n",
    "#RFP/OneWATesting/23-700_OneWA_Workday Testing Services_f.pdf\")"
   ]
  },
  {
   "cell_type": "code",
   "execution_count": 152,
   "id": "715e1c6b-ea66-418f-844e-e8ef3dc0307a",
   "metadata": {},
   "outputs": [
    {
     "data": {
      "text/plain": [
       "<pypdf._reader.PdfReader at 0x7f433934c810>"
      ]
     },
     "execution_count": 152,
     "metadata": {},
     "output_type": "execute_result"
    }
   ],
   "source": [
    "reader"
   ]
  },
  {
   "cell_type": "code",
   "execution_count": 153,
   "id": "390f5c66-4233-4dbc-97cf-ded92ba31109",
   "metadata": {},
   "outputs": [],
   "source": [
    "number_of_pages = len(reader.pages)\n",
    "page = reader.pages[10]\n",
    "text = page.extract_text()"
   ]
  },
  {
   "cell_type": "code",
   "execution_count": 156,
   "id": "40310444-287f-4cef-90a9-5bbce67745b1",
   "metadata": {},
   "outputs": [],
   "source": [
    "def visitor_body(text, cm, tm, font_dict, font_size):\n",
    "    if font_dict:\n",
    "        import ipdb; ipdb.set_trace()\n",
    "        weight = font_dict['/FontDescriptor']['/FontWeight']  # needs to be cleaned\n",
    "    else:\n",
    "        weight = None\n",
    "    raw_parts.append({'font_size': font_size, 'text': text, 'font_weight': weight})\n"
   ]
  },
  {
   "cell_type": "code",
   "execution_count": 157,
   "id": "93bc32ad-c6f3-489c-8ee1-7c96788adbfe",
   "metadata": {},
   "outputs": [
    {
     "name": "stdout",
     "output_type": "stream",
     "text": [
      "> \u001b[0;32m/tmp/ipykernel_6353/3131256517.py\u001b[0m(4)\u001b[0;36mvisitor_body\u001b[0;34m()\u001b[0m\n",
      "\u001b[0;32m      3 \u001b[0;31m        \u001b[0;32mimport\u001b[0m \u001b[0mipdb\u001b[0m\u001b[0;34m;\u001b[0m \u001b[0mipdb\u001b[0m\u001b[0;34m.\u001b[0m\u001b[0mset_trace\u001b[0m\u001b[0;34m(\u001b[0m\u001b[0;34m)\u001b[0m\u001b[0;34m\u001b[0m\u001b[0;34m\u001b[0m\u001b[0m\n",
      "\u001b[0m\u001b[0;32m----> 4 \u001b[0;31m        \u001b[0mweight\u001b[0m \u001b[0;34m=\u001b[0m \u001b[0mfont_dict\u001b[0m\u001b[0;34m[\u001b[0m\u001b[0;34m'/FontDescriptor'\u001b[0m\u001b[0;34m]\u001b[0m\u001b[0;34m[\u001b[0m\u001b[0;34m'/FontWeight'\u001b[0m\u001b[0;34m]\u001b[0m\u001b[0;34m\u001b[0m\u001b[0;34m\u001b[0m\u001b[0m\n",
      "\u001b[0m\u001b[0;32m      5 \u001b[0;31m    \u001b[0;32melse\u001b[0m\u001b[0;34m:\u001b[0m\u001b[0;34m\u001b[0m\u001b[0;34m\u001b[0m\u001b[0m\n",
      "\u001b[0m\n"
     ]
    },
    {
     "name": "stdin",
     "output_type": "stream",
     "text": [
      "ipdb>  font_dict\n"
     ]
    },
    {
     "name": "stdout",
     "output_type": "stream",
     "text": [
      "{'/Type': '/Font', '/Subtype': '/TrueType', '/Name': '/F1', '/BaseFont': '/Arial', '/Encoding': '/WinAnsiEncoding', '/FontDescriptor': IndirectObject(6, 0, 139926699296784), '/FirstChar': 32, '/LastChar': 122, '/Widths': IndirectObject(2183, 0, 139926699296784)}\n"
     ]
    },
    {
     "name": "stdin",
     "output_type": "stream",
     "text": [
      "ipdb>  font_size\n"
     ]
    },
    {
     "name": "stdout",
     "output_type": "stream",
     "text": [
      "9.96\n",
      "--KeyboardInterrupt--\n",
      "\n",
      "KeyboardInterrupt: Interrupted by user\n",
      "> \u001b[0;32m/tmp/ipykernel_6353/3131256517.py\u001b[0m(4)\u001b[0;36mvisitor_body\u001b[0;34m()\u001b[0m\n",
      "\u001b[0;32m      3 \u001b[0;31m        \u001b[0;32mimport\u001b[0m \u001b[0mipdb\u001b[0m\u001b[0;34m;\u001b[0m \u001b[0mipdb\u001b[0m\u001b[0;34m.\u001b[0m\u001b[0mset_trace\u001b[0m\u001b[0;34m(\u001b[0m\u001b[0;34m)\u001b[0m\u001b[0;34m\u001b[0m\u001b[0;34m\u001b[0m\u001b[0m\n",
      "\u001b[0m\u001b[0;32m----> 4 \u001b[0;31m        \u001b[0mweight\u001b[0m \u001b[0;34m=\u001b[0m \u001b[0mfont_dict\u001b[0m\u001b[0;34m[\u001b[0m\u001b[0;34m'/FontDescriptor'\u001b[0m\u001b[0;34m]\u001b[0m\u001b[0;34m[\u001b[0m\u001b[0;34m'/FontWeight'\u001b[0m\u001b[0;34m]\u001b[0m\u001b[0;34m\u001b[0m\u001b[0;34m\u001b[0m\u001b[0m\n",
      "\u001b[0m\u001b[0;32m      5 \u001b[0;31m    \u001b[0;32melse\u001b[0m\u001b[0;34m:\u001b[0m\u001b[0;34m\u001b[0m\u001b[0;34m\u001b[0m\u001b[0m\n",
      "\u001b[0m\n"
     ]
    },
    {
     "name": "stdin",
     "output_type": "stream",
     "text": [
      "ipdb>  q\n",
      "ipdb>  q\n"
     ]
    }
   ],
   "source": [
    "raw_parts = []\n",
    "t = page.extract_text(visitor_text=visitor_body)\n",
    "raw_parts = [r for r in raw_parts if r['text']]"
   ]
  },
  {
   "cell_type": "code",
   "execution_count": null,
   "id": "2b3959f1-6278-4cfa-abfa-a54812e00277",
   "metadata": {},
   "outputs": [],
   "source": [
    "raw_parts"
   ]
  },
  {
   "cell_type": "code",
   "execution_count": 56,
   "id": "21d24958-773a-4e19-b5d2-a14ff6f0625b",
   "metadata": {},
   "outputs": [
    {
     "name": "stdout",
     "output_type": "stream",
     "text": [
      "12.0:12.0:12.0:14.04: 12.0:14.04:\n",
      "14.04: 12.0:12.0:\n",
      "12.0: 12.0:18.0:\n",
      "18.0: 12.0:18.0:\n",
      "18.0: 12.0:18.0:\n",
      "18.0: 12.0:18.0:\n",
      "18.0:REQUEST FOR PROPOSAL12.0:18.0:  12.0:9.96:\n",
      "9.96: 12.0:18.0:\n",
      "18.0:#12.0:9.96: 12.0:18.0:802408912.0:18.0: -12.0:18.0:2412.0:18.0: 12.0:18.0:\n",
      "18.0: 12.0:18.0:\n",
      "18.0:FOR12.0:18.0:  12.0:18.0:\n",
      "18.0: 12.0:18.0:\n",
      "18.0:Digital Transformation and Modernization of12.0:18.0:  12.0:18.0:\n",
      "18.0:SNB.CA: Enhancing Customer Experience 12.0:18.0:\n",
      "18.0:through Agile and Customer12.0:18.0: -12.0:18.0:Centric Online 12.0:18.0:\n",
      "18.0:Services12.0:18.0:  12.0:12.0:\n",
      "12.0: 12.0:12.0:\n",
      "12.0: 12.0:18.0:\n",
      "18.0:PROVINCE OF NEW BRUNSWICK12.0:18.0:  12.0:18.0:\n",
      "18.0: 12.0:18.0:\n",
      "18.0: 12.0:18.0:\n",
      "18.0:Service New Brunswick12.0:20.04:  12.0:18.0:\n",
      "18.0: 12.0:14.04:\n",
      "14.04: 12.0:18.0:\n",
      "18.0: 12.0:12.0:\n",
      "12.0:S12.0:9.48:UMMARY OF 12.0:12.0:K12.0:9.48:EY 12.0:12.0:I12.0:9.48:NFORMATION12.0:12.0:  12.0:12.0:\n",
      "12.0: 12.0:12.0:\n",
      "12.0: 12.0:12.0:\n",
      "12.0:ISSUE DATE12.0:12.0: :12.0:12.0: 12.0:12.0: 12.0:12.0: 12.0:12.0:September 12.0:12.0:812.0:12.0:, 202312.0:12.0:  12.0:12.0: 12.0:12.0: 12.0:12.0: 12.0:12.0: 12.0:12.0:\n",
      "12.0: 12.0:12.0:\n",
      "12.0:CLOSING12.0:9.48:  12.0:12.0:DATE12.0:9.48:  12.0:12.0:FOR12.0:9.48:  12.0:12.0:VENDOR12.0:9.48:  12.0:12.0:RESPONSE12.0:12.0:  12.0:12.0:\n",
      "12.0: 12.0:12.0:\n",
      "12.0:Septe12.0:12.0: mber 2912.0:12.0: ,12.0:12.0: 12.0:12.0:2012.0:12.0:2312.0:12.0:,12.0:12.0: 12.0:12.0:at 1:30 p.m. Fredericton time.12.0:12.0:  12.0:12.0:\n",
      "12.0: 12.0:12.0:\n",
      "12.0: \n"
     ]
    }
   ],
   "source": [
    "print(\"\".join(raw_parts))"
   ]
  },
  {
   "cell_type": "code",
   "execution_count": 21,
   "id": "b7e3419e-e948-4308-973d-b4f2d8048310",
   "metadata": {},
   "outputs": [
    {
     "data": {
      "text/plain": [
       "' \\n \\n \\n \\n \\n \\nREQUEST FOR PROPOSAL  \\n \\n# 8024089 -24 \\n \\nFOR  \\n \\nDigital Transformation and Modernization of  \\nSNB.CA: Enhancing Customer Experience \\nthrough Agile and Customer -Centric Online \\nServices  \\n \\n \\nPROVINCE OF NEW BRUNSWICK  \\n \\n \\nService New Brunswick  \\n \\n \\n \\nSUMMARY OF KEY INFORMATION  \\n \\n \\nISSUE DATE :   September 8, 2023      \\n \\nCLOSING  DATE  FOR  VENDOR  RESPONSE  \\n \\nSepte mber 29 , 2023, at 1:30 p.m. Fredericton time.  \\n \\n '"
      ]
     },
     "execution_count": 21,
     "metadata": {},
     "output_type": "execute_result"
    }
   ],
   "source": []
  },
  {
   "cell_type": "code",
   "execution_count": 5,
   "id": "8a44b941-b6c4-4a59-bdb0-3b0280c08a51",
   "metadata": {},
   "outputs": [],
   "source": [
    "from io import StringIO\n",
    "from pdfminer.high_level import extract_text_to_fp\n",
    "from pdfminer.layout import LAParams\n",
    "output_string = StringIO()\n",
    "with open('../samples/RFP/NewBrunswick/DIGITAL TRANSFORMATION SNB.CA.pdf', 'rb') as fin:\n",
    "     extract_text_to_fp(fin, output_string, laparams=LAParams(),\n",
    "                        output_type='html', codec=None)"
   ]
  },
  {
   "cell_type": "code",
   "execution_count": 9,
   "id": "fcb3c5db-ed87-467a-9d23-8fcb1f2e2519",
   "metadata": {},
   "outputs": [
    {
     "data": {
      "text/plain": [
       "''"
      ]
     },
     "execution_count": 9,
     "metadata": {},
     "output_type": "execute_result"
    }
   ],
   "source": [
    "output_string.read()"
   ]
  },
  {
   "cell_type": "code",
   "execution_count": 2,
   "id": "448bd41f-39c9-4a3a-9a2e-65b6e1e19f6f",
   "metadata": {},
   "outputs": [],
   "source": [
    "import pdfkit"
   ]
  },
  {
   "cell_type": "code",
   "execution_count": 5,
   "id": "0e80f853-84c8-4963-9483-7d065ff3832c",
   "metadata": {},
   "outputs": [
    {
     "ename": "OSError",
     "evalue": "No wkhtmltopdf executable found: \"b''\"\nIf this file exists please check that this process can read it or you can pass path to it manually in method call, check README. Otherwise please install wkhtmltopdf - https://github.com/JazzCore/python-pdfkit/wiki/Installing-wkhtmltopdf",
     "output_type": "error",
     "traceback": [
      "\u001b[1;31m---------------------------------------------------------------------------\u001b[0m",
      "\u001b[1;31mFileNotFoundError\u001b[0m                         Traceback (most recent call last)",
      "File \u001b[1;32m~\\Anaconda3\\envs\\secdata\\Lib\\site-packages\\pdfkit\\configuration.py:35\u001b[0m, in \u001b[0;36mConfiguration.__init__\u001b[1;34m(self, wkhtmltopdf, meta_tag_prefix, environ)\u001b[0m\n\u001b[0;32m     33\u001b[0m     \u001b[38;5;28mself\u001b[39m\u001b[38;5;241m.\u001b[39mwkhtmltopdf \u001b[38;5;241m=\u001b[39m lines[\u001b[38;5;241m0\u001b[39m]\u001b[38;5;241m.\u001b[39mstrip()\n\u001b[1;32m---> 35\u001b[0m \u001b[38;5;28;01mwith\u001b[39;00m \u001b[38;5;28;43mopen\u001b[39;49m\u001b[43m(\u001b[49m\u001b[38;5;28;43mself\u001b[39;49m\u001b[38;5;241;43m.\u001b[39;49m\u001b[43mwkhtmltopdf\u001b[49m\u001b[43m)\u001b[49m \u001b[38;5;28;01mas\u001b[39;00m f:\n\u001b[0;32m     36\u001b[0m     \u001b[38;5;28;01mpass\u001b[39;00m\n",
      "\u001b[1;31mFileNotFoundError\u001b[0m: [Errno 2] No such file or directory: b''",
      "\nDuring handling of the above exception, another exception occurred:\n",
      "\u001b[1;31mOSError\u001b[0m                                   Traceback (most recent call last)",
      "Cell \u001b[1;32mIn[5], line 2\u001b[0m\n\u001b[0;32m      1\u001b[0m \u001b[38;5;66;03m#with open('../../samples/RFP/NewBrunswick/DIGITAL TRANSFORMATION SNB.CA.pdf', 'rb') as fin:\u001b[39;00m\n\u001b[1;32m----> 2\u001b[0m html \u001b[38;5;241m=\u001b[39m \u001b[43mpdfkit\u001b[49m\u001b[38;5;241;43m.\u001b[39;49m\u001b[43mfrom_file\u001b[49m\u001b[43m(\u001b[49m\u001b[38;5;124;43m'\u001b[39;49m\u001b[38;5;124;43m../../samples/RFP/NewBrunswick/DIGITAL TRANSFORMATION SNB.CA.pdf\u001b[39;49m\u001b[38;5;124;43m'\u001b[39;49m\u001b[43m,\u001b[49m\u001b[43m \u001b[49m\u001b[38;5;124;43m'\u001b[39;49m\u001b[38;5;124;43mout.html\u001b[39;49m\u001b[38;5;124;43m'\u001b[39;49m\u001b[43m)\u001b[49m\n",
      "File \u001b[1;32m~\\Anaconda3\\envs\\secdata\\Lib\\site-packages\\pdfkit\\api.py:48\u001b[0m, in \u001b[0;36mfrom_file\u001b[1;34m(input, output_path, options, toc, cover, css, configuration, cover_first, verbose)\u001b[0m\n\u001b[0;32m     30\u001b[0m \u001b[38;5;28;01mdef\u001b[39;00m \u001b[38;5;21mfrom_file\u001b[39m(\u001b[38;5;28minput\u001b[39m, output_path\u001b[38;5;241m=\u001b[39m\u001b[38;5;28;01mNone\u001b[39;00m, options\u001b[38;5;241m=\u001b[39m\u001b[38;5;28;01mNone\u001b[39;00m, toc\u001b[38;5;241m=\u001b[39m\u001b[38;5;28;01mNone\u001b[39;00m, cover\u001b[38;5;241m=\u001b[39m\u001b[38;5;28;01mNone\u001b[39;00m, css\u001b[38;5;241m=\u001b[39m\u001b[38;5;28;01mNone\u001b[39;00m,\n\u001b[0;32m     31\u001b[0m               configuration\u001b[38;5;241m=\u001b[39m\u001b[38;5;28;01mNone\u001b[39;00m, cover_first\u001b[38;5;241m=\u001b[39m\u001b[38;5;28;01mFalse\u001b[39;00m, verbose\u001b[38;5;241m=\u001b[39m\u001b[38;5;28;01mFalse\u001b[39;00m):\n\u001b[0;32m     32\u001b[0m \u001b[38;5;250m    \u001b[39m\u001b[38;5;124;03m\"\"\"\u001b[39;00m\n\u001b[0;32m     33\u001b[0m \u001b[38;5;124;03m    Convert HTML file or files to PDF document\u001b[39;00m\n\u001b[0;32m     34\u001b[0m \n\u001b[1;32m   (...)\u001b[0m\n\u001b[0;32m     45\u001b[0m \u001b[38;5;124;03m    Returns: True on success\u001b[39;00m\n\u001b[0;32m     46\u001b[0m \u001b[38;5;124;03m    \"\"\"\u001b[39;00m\n\u001b[1;32m---> 48\u001b[0m     r \u001b[38;5;241m=\u001b[39m \u001b[43mPDFKit\u001b[49m\u001b[43m(\u001b[49m\u001b[38;5;28;43minput\u001b[39;49m\u001b[43m,\u001b[49m\u001b[43m \u001b[49m\u001b[38;5;124;43m'\u001b[39;49m\u001b[38;5;124;43mfile\u001b[39;49m\u001b[38;5;124;43m'\u001b[39;49m\u001b[43m,\u001b[49m\u001b[43m \u001b[49m\u001b[43moptions\u001b[49m\u001b[38;5;241;43m=\u001b[39;49m\u001b[43moptions\u001b[49m\u001b[43m,\u001b[49m\u001b[43m \u001b[49m\u001b[43mtoc\u001b[49m\u001b[38;5;241;43m=\u001b[39;49m\u001b[43mtoc\u001b[49m\u001b[43m,\u001b[49m\u001b[43m \u001b[49m\u001b[43mcover\u001b[49m\u001b[38;5;241;43m=\u001b[39;49m\u001b[43mcover\u001b[49m\u001b[43m,\u001b[49m\u001b[43m \u001b[49m\u001b[43mcss\u001b[49m\u001b[38;5;241;43m=\u001b[39;49m\u001b[43mcss\u001b[49m\u001b[43m,\u001b[49m\n\u001b[0;32m     49\u001b[0m \u001b[43m               \u001b[49m\u001b[43mconfiguration\u001b[49m\u001b[38;5;241;43m=\u001b[39;49m\u001b[43mconfiguration\u001b[49m\u001b[43m,\u001b[49m\u001b[43m \u001b[49m\u001b[43mcover_first\u001b[49m\u001b[38;5;241;43m=\u001b[39;49m\u001b[43mcover_first\u001b[49m\u001b[43m,\u001b[49m\u001b[43m \u001b[49m\u001b[43mverbose\u001b[49m\u001b[38;5;241;43m=\u001b[39;49m\u001b[43mverbose\u001b[49m\u001b[43m)\u001b[49m\n\u001b[0;32m     51\u001b[0m     \u001b[38;5;28;01mreturn\u001b[39;00m r\u001b[38;5;241m.\u001b[39mto_pdf(output_path)\n",
      "File \u001b[1;32m~\\Anaconda3\\envs\\secdata\\Lib\\site-packages\\pdfkit\\pdfkit.py:45\u001b[0m, in \u001b[0;36mPDFKit.__init__\u001b[1;34m(self, url_or_file, type_, options, toc, cover, css, configuration, cover_first, verbose)\u001b[0m\n\u001b[0;32m     41\u001b[0m \u001b[38;5;28;01mdef\u001b[39;00m \u001b[38;5;21m__init__\u001b[39m(\u001b[38;5;28mself\u001b[39m, url_or_file, type_, options\u001b[38;5;241m=\u001b[39m\u001b[38;5;28;01mNone\u001b[39;00m, toc\u001b[38;5;241m=\u001b[39m\u001b[38;5;28;01mNone\u001b[39;00m, cover\u001b[38;5;241m=\u001b[39m\u001b[38;5;28;01mNone\u001b[39;00m,\n\u001b[0;32m     42\u001b[0m              css\u001b[38;5;241m=\u001b[39m\u001b[38;5;28;01mNone\u001b[39;00m, configuration\u001b[38;5;241m=\u001b[39m\u001b[38;5;28;01mNone\u001b[39;00m, cover_first\u001b[38;5;241m=\u001b[39m\u001b[38;5;28;01mFalse\u001b[39;00m, verbose\u001b[38;5;241m=\u001b[39m\u001b[38;5;28;01mFalse\u001b[39;00m):\n\u001b[0;32m     44\u001b[0m     \u001b[38;5;28mself\u001b[39m\u001b[38;5;241m.\u001b[39msource \u001b[38;5;241m=\u001b[39m Source(url_or_file, type_)\n\u001b[1;32m---> 45\u001b[0m     \u001b[38;5;28mself\u001b[39m\u001b[38;5;241m.\u001b[39mconfiguration \u001b[38;5;241m=\u001b[39m (\u001b[43mConfiguration\u001b[49m\u001b[43m(\u001b[49m\u001b[43m)\u001b[49m \u001b[38;5;28;01mif\u001b[39;00m configuration \u001b[38;5;129;01mis\u001b[39;00m \u001b[38;5;28;01mNone\u001b[39;00m\n\u001b[0;32m     46\u001b[0m                           \u001b[38;5;28;01melse\u001b[39;00m configuration)\n\u001b[0;32m     47\u001b[0m     \u001b[38;5;28;01mtry\u001b[39;00m:\n\u001b[0;32m     48\u001b[0m         \u001b[38;5;28mself\u001b[39m\u001b[38;5;241m.\u001b[39mwkhtmltopdf \u001b[38;5;241m=\u001b[39m \u001b[38;5;28mself\u001b[39m\u001b[38;5;241m.\u001b[39mconfiguration\u001b[38;5;241m.\u001b[39mwkhtmltopdf\u001b[38;5;241m.\u001b[39mdecode(\u001b[38;5;124m'\u001b[39m\u001b[38;5;124mutf-8\u001b[39m\u001b[38;5;124m'\u001b[39m)\n",
      "File \u001b[1;32m~\\Anaconda3\\envs\\secdata\\Lib\\site-packages\\pdfkit\\configuration.py:38\u001b[0m, in \u001b[0;36mConfiguration.__init__\u001b[1;34m(self, wkhtmltopdf, meta_tag_prefix, environ)\u001b[0m\n\u001b[0;32m     36\u001b[0m         \u001b[38;5;28;01mpass\u001b[39;00m\n\u001b[0;32m     37\u001b[0m \u001b[38;5;28;01mexcept\u001b[39;00m (\u001b[38;5;167;01mIOError\u001b[39;00m, \u001b[38;5;167;01mFileNotFoundError\u001b[39;00m) \u001b[38;5;28;01mas\u001b[39;00m e:\n\u001b[1;32m---> 38\u001b[0m     \u001b[38;5;28;01mraise\u001b[39;00m \u001b[38;5;167;01mIOError\u001b[39;00m(\u001b[38;5;124m'\u001b[39m\u001b[38;5;124mNo wkhtmltopdf executable found: \u001b[39m\u001b[38;5;124m\"\u001b[39m\u001b[38;5;132;01m%s\u001b[39;00m\u001b[38;5;124m\"\u001b[39m\u001b[38;5;130;01m\\n\u001b[39;00m\u001b[38;5;124m'\u001b[39m\n\u001b[0;32m     39\u001b[0m                   \u001b[38;5;124m'\u001b[39m\u001b[38;5;124mIf this file exists please check that this process can \u001b[39m\u001b[38;5;124m'\u001b[39m\n\u001b[0;32m     40\u001b[0m                   \u001b[38;5;124m'\u001b[39m\u001b[38;5;124mread it or you can pass path to it manually in method call, \u001b[39m\u001b[38;5;124m'\u001b[39m\n\u001b[0;32m     41\u001b[0m                   \u001b[38;5;124m'\u001b[39m\u001b[38;5;124mcheck README. Otherwise please install wkhtmltopdf - \u001b[39m\u001b[38;5;124m'\u001b[39m\n\u001b[0;32m     42\u001b[0m                   \u001b[38;5;124m'\u001b[39m\u001b[38;5;124mhttps://github.com/JazzCore/python-pdfkit/wiki/Installing-wkhtmltopdf\u001b[39m\u001b[38;5;124m'\u001b[39m \u001b[38;5;241m%\u001b[39m \u001b[38;5;28mself\u001b[39m\u001b[38;5;241m.\u001b[39mwkhtmltopdf)\n\u001b[0;32m     45\u001b[0m \u001b[38;5;28mself\u001b[39m\u001b[38;5;241m.\u001b[39menviron \u001b[38;5;241m=\u001b[39m environ\n\u001b[0;32m     47\u001b[0m \u001b[38;5;28;01mif\u001b[39;00m \u001b[38;5;129;01mnot\u001b[39;00m \u001b[38;5;28mself\u001b[39m\u001b[38;5;241m.\u001b[39menviron:\n",
      "\u001b[1;31mOSError\u001b[0m: No wkhtmltopdf executable found: \"b''\"\nIf this file exists please check that this process can read it or you can pass path to it manually in method call, check README. Otherwise please install wkhtmltopdf - https://github.com/JazzCore/python-pdfkit/wiki/Installing-wkhtmltopdf"
     ]
    }
   ],
   "source": [
    "#with open('../../samples/RFP/NewBrunswick/DIGITAL TRANSFORMATION SNB.CA.pdf', 'rb') as fin:\n",
    "html = pdfkit.from_file('../../samples/RFP/NewBrunswick/DIGITAL TRANSFORMATION SNB.CA.pdf', 'out.html')\n",
    "    "
   ]
  },
  {
   "cell_type": "code",
   "execution_count": 6,
   "id": "4271d6e7-8257-41b6-90b5-0ab488318784",
   "metadata": {},
   "outputs": [],
   "source": [
    "import tika"
   ]
  },
  {
   "cell_type": "code",
   "execution_count": 8,
   "id": "57090532-65cf-4102-895f-0cc2ff7e2712",
   "metadata": {},
   "outputs": [],
   "source": [
    "tika.initVM()"
   ]
  },
  {
   "cell_type": "code",
   "execution_count": 9,
   "id": "e36d5faa-9913-4ddb-b739-4df3d224dec5",
   "metadata": {},
   "outputs": [],
   "source": [
    "from tika import parser"
   ]
  },
  {
   "cell_type": "code",
   "execution_count": 20,
   "id": "39e5892b-a331-4289-9bcb-86750dadc68f",
   "metadata": {},
   "outputs": [],
   "source": [
    "parsed = parser.from_file('../../samples/RFP/WAK2033/K2033 response from CRE8 Independent Consulant.pdf', xmlContent=True)"
   ]
  },
  {
   "cell_type": "code",
   "execution_count": 18,
   "id": "e4800303-82f8-4d07-89c1-eccaeca018d3",
   "metadata": {},
   "outputs": [],
   "source": [
    "fh = open(\"parsed.xml\", 'w', encoding='utf-8')\n",
    "fh.write(parsed['content'])\n",
    "fh.close()"
   ]
  },
  {
   "cell_type": "code",
   "execution_count": null,
   "id": "c3db8d8f-fa6e-42f4-a4d0-19725aab9302",
   "metadata": {},
   "outputs": [],
   "source": []
  },
  {
   "cell_type": "code",
   "execution_count": null,
   "id": "62cb500c-8328-4193-88ed-57cac5ae9ff1",
   "metadata": {},
   "outputs": [],
   "source": []
  },
  {
   "cell_type": "code",
   "execution_count": null,
   "id": "c6137c0a-8338-445e-9c58-baedcd4b42b1",
   "metadata": {},
   "outputs": [],
   "source": []
  },
  {
   "cell_type": "code",
   "execution_count": null,
   "id": "b1d7db47-38ae-4d05-b00f-1cf8a6131f3c",
   "metadata": {},
   "outputs": [],
   "source": []
  },
  {
   "cell_type": "code",
   "execution_count": 38,
   "id": "55e98c4f-6afc-4ebd-8bf3-cd1da5b4f586",
   "metadata": {},
   "outputs": [],
   "source": [
    "from pdfminer.high_level import extract_text_to_fp\n"
   ]
  },
  {
   "cell_type": "code",
   "execution_count": 45,
   "id": "a1d6a254-b2aa-4027-a416-d1b7b2f82ba8",
   "metadata": {},
   "outputs": [],
   "source": [
    "from io import BytesIO\n",
    "output = BytesIO()\n",
    "file_like = open('../../samples/RFP/WAK2033/K2033 response from CRE8 Independent Consulant.pdf', 'rb')\n",
    "extract_text_to_fp(file_like, output, output_type='html', page_numbers=[6])"
   ]
  },
  {
   "cell_type": "code",
   "execution_count": 46,
   "id": "b0e6c4cb-a43e-461f-8d94-5b699c426956",
   "metadata": {},
   "outputs": [
    {
     "data": {
      "text/plain": [
       "<_io.BytesIO at 0x2b4f6af8a40>"
      ]
     },
     "execution_count": 46,
     "metadata": {},
     "output_type": "execute_result"
    }
   ],
   "source": [
    "output"
   ]
  },
  {
   "cell_type": "code",
   "execution_count": 47,
   "id": "68dffebb-c61c-471e-8ef9-b26c79a96942",
   "metadata": {},
   "outputs": [],
   "source": [
    "content = output.getvalue().decode('utf-8')"
   ]
  },
  {
   "cell_type": "code",
   "execution_count": 48,
   "id": "f9b86326-b218-4134-b4e8-af43879bcd18",
   "metadata": {},
   "outputs": [
    {
     "data": {
      "text/plain": [
       "'<html><head>\\n<meta http-equiv=\"Content-Type\" content=\"text/html; charset=utf-8\">\\n</head><body>\\n<span style=\"position:absolute; border: gray 1px solid; left:0px; top:50px; width:612px; height:792px;\"></span>\\n<div style=\"position:absolute; top:50px;\"><a name=\"1\">Page 1</a></div>\\n<span style=\"font-family: TimesNewRomanPSMT; font-size:12px\">  </span><span style=\"font-family: TimesNewRomanPS-BoldMT; font-size:8px\">    CRE8 RESPONSE TO DOR RFP DOR K2033 ECM ASSESSMENT                                                                                                   2/24/2022 <span style=\"position:absolute; border: black 1px solid; left:54px; top:95px; width:466px; height:0px;\"></span>\\n</span><span style=\"font-family: TimesNewRomanPSMT; font-size:15px\">                                <span style=\"position:absolute; border: black 1px solid; left:54px; top:783px; width:468px; height:0px;\"></span>\\n</span><span style=\"font-family: BookAntiqua; font-size:8px\">                        </span><span style=\"font-family: BookAntiqua; font-size:6px\">INCORPORATED </span><span style=\"font-family: TimesNewRomanPSMT; font-size:6px\">INDEPENDENT CONSULTANTS                                      </span><span style=\"font-family: TimesNewRomanPSMT; font-size:9px\">                                                            Page - 7 </span><span style=\"font-family: TimesNewRomanPSMT; font-size:9px\"> </span><span style=\"font-family: TimesNewRomanPSMT; font-size:9px\"> </span><span style=\"font-family: TimesNewRomanPSMT; font-size:12px\"> </span><span style=\"font-family: TimesNewRomanPSMT; font-size:0px\"> <div style=\"position:absolute; border: figure 1px solid; writing-mode:False; left:53px; top:785px; width:51px; height:15px;\"></div></span><span style=\"font-family: Calibri-Bold; font-size:12px\">2</span><span style=\"font-family: Calibri-Bold; font-size:9px\">.</span><span style=\"font-family: Calibri-Bold; font-size:8px\">  </span><span style=\"font-family: Calibri-Bold; font-size:9px\">S</span><span style=\"font-family: Calibri-Bold; font-size:8px\">UBCONTRACTOR</span><span style=\"font-family: Calibri-Bold; font-size:9px\">.</span><span style=\"font-family: Calibri-Bold; font-size:8px\"> </span><span style=\"font-family: Calibri; font-size:9px\">I</span><span style=\"font-family: Calibri; font-size:8px\">F </span><span style=\"font-family: Calibri; font-size:9px\">V</span><span style=\"font-family: Calibri; font-size:8px\">ENDOR IS PLANNING TO USE SUBCONTRACTOR</span><span style=\"font-family: Calibri; font-size:9px\">(</span><span style=\"font-family: Calibri; font-size:8px\">S</span><span style=\"font-family: Calibri; font-size:9px\">)</span><span style=\"font-family: Calibri; font-size:8px\"> FOR ANY PART OF THIS SCOPE OF WORK</span><span style=\"font-family: Calibri; font-size:9px\">,</span><span style=\"font-family: Calibri; font-size:8px\"> COMPLETE THIS SECTION</span><span style=\"font-family: Calibri; font-size:9px\">.</span><span style=\"font-family: Calibri; font-size:8px\">  </span><span style=\"font-family: Calibri; font-size:9px\">DOR</span><span style=\"font-family: Calibri; font-size:8px\"> RESERVES THE RIGHT TO REQUEST ADDITIONAL INFORMATION FOR ANY PROPOSED SUBCONTRACTORS</span><span style=\"font-family: Calibri; font-size:9px\">.</span><span style=\"font-family: Calibri; font-size:8px\">  </span><span style=\"font-family: Calibri; font-size:9px\">B</span><span style=\"font-family: Calibri; font-size:8px\">Y INCLUDING SUBCONTRACTOR</span><span style=\"font-family: Calibri; font-size:9px\">(</span><span style=\"font-family: Calibri; font-size:8px\">S</span><span style=\"font-family: Calibri; font-size:9px\">)</span><span style=\"font-family: Calibri; font-size:8px\"> AS PART OF YOUR PROPOSAL</span><span style=\"font-family: Calibri; font-size:9px\">,</span><span style=\"font-family: Calibri; font-size:8px\"> </span><span style=\"font-family: Calibri; font-size:9px\">V</span><span style=\"font-family: Calibri; font-size:8px\">ENDOR AGREES TO ASSUME RESPONSIBILITY FOR ALL CONTRACT OBLIGATIONS AND ANY LIABILITY FOR ALL ACTIONS OF SUBCONTRACTORS</span><span style=\"font-family: Calibri; font-size:9px\">.  <span style=\"position:absolute; border: black 1px solid; left:48px; top:182px; width:497px; height:13px;\"></span>\\nA</span><span style=\"font-family: Calibri; font-size:8px\">DD ROWS IF MULTIPLE SUBCONTRACTORS ARE ANTICIPATED</span><span style=\"font-family: Calibri; font-size:9px\">. <span style=\"position:absolute; border: black 1px solid; left:48px; top:182px; width:0px; height:0px;\"></span>\\n<span style=\"position:absolute; border: black 1px solid; left:48px; top:182px; width:0px; height:0px;\"></span>\\n<span style=\"position:absolute; border: black 1px solid; left:48px; top:182px; width:497px; height:0px;\"></span>\\n<span style=\"position:absolute; border: black 1px solid; left:545px; top:182px; width:0px; height:0px;\"></span>\\n<span style=\"position:absolute; border: black 1px solid; left:545px; top:182px; width:0px; height:0px;\"></span>\\n<span style=\"position:absolute; border: black 1px solid; left:48px; top:182px; width:0px; height:13px;\"></span>\\n<span style=\"position:absolute; border: black 1px solid; left:545px; top:182px; width:0px; height:13px;\"></span>\\n<span style=\"position:absolute; border: black 1px solid; left:48px; top:195px; width:497px; height:14px;\"></span>\\n</span><span style=\"font-family: Calibri-Bold; font-size:9px\">I</span><span style=\"font-family: Calibri-Bold; font-size:8px\">F </span><span style=\"font-family: Calibri-Bold; font-size:9px\">V</span><span style=\"font-family: Calibri-Bold; font-size:8px\">ENDOR WILL NOT BE USING ANY SUBCONTRACTORS</span><span style=\"font-family: Calibri-Bold; font-size:9px\">,</span><span style=\"font-family: Calibri-Bold; font-size:8px\"> CHECK HERE </span><span style=\"font-family: SegoeUISymbol; font-size:9px\">☐</span><span style=\"font-family: Calibri; font-size:9px\"> <span style=\"position:absolute; border: black 1px solid; left:48px; top:210px; width:0px; height:0px;\"></span>\\n<span style=\"position:absolute; border: black 1px solid; left:48px; top:210px; width:0px; height:0px;\"></span>\\n<span style=\"position:absolute; border: black 1px solid; left:48px; top:210px; width:497px; height:0px;\"></span>\\n<span style=\"position:absolute; border: black 1px solid; left:545px; top:210px; width:0px; height:0px;\"></span>\\n<span style=\"position:absolute; border: black 1px solid; left:545px; top:210px; width:0px; height:0px;\"></span>\\n<span style=\"position:absolute; border: black 1px solid; left:48px; top:195px; width:0px; height:14px;\"></span>\\n<span style=\"position:absolute; border: black 1px solid; left:545px; top:195px; width:0px; height:14px;\"></span>\\n</span><span style=\"font-family: Calibri-Bold; font-size:9px\">Subcontractor Company Name </span><span style=\"font-family: Calibri; font-size:9px\">Imerge Consulting (Independent Consultants) <span style=\"position:absolute; border: black 1px solid; left:48px; top:210px; width:0px; height:0px;\"></span>\\n<span style=\"position:absolute; border: black 1px solid; left:48px; top:210px; width:0px; height:0px;\"></span>\\n<span style=\"position:absolute; border: black 1px solid; left:48px; top:210px; width:112px; height:0px;\"></span>\\n<span style=\"position:absolute; border: black 1px solid; left:161px; top:210px; width:0px; height:0px;\"></span>\\n<span style=\"position:absolute; border: black 1px solid; left:162px; top:210px; width:382px; height:0px;\"></span>\\n<span style=\"position:absolute; border: black 1px solid; left:544px; top:210px; width:0px; height:0px;\"></span>\\n<span style=\"position:absolute; border: black 1px solid; left:544px; top:210px; width:0px; height:0px;\"></span>\\n<span style=\"position:absolute; border: black 1px solid; left:48px; top:211px; width:0px; height:24px;\"></span>\\n<span style=\"position:absolute; border: black 1px solid; left:161px; top:211px; width:0px; height:24px;\"></span>\\n<span style=\"position:absolute; border: black 1px solid; left:544px; top:211px; width:0px; height:24px;\"></span>\\n</span><span style=\"font-family: Calibri-Bold; font-size:9px\">Brief description of subcontractor company </span><span style=\"font-family: Calibri; font-size:9px\">For over 20 years, Imerge Consulting has been a vendor-neutral consulting company providing ECM information governance assessments &amp; strategy, records &amp; information management, technology &amp; vendor selection, and digital content remediation. Imerge and CRE8 have worked together on many ECM assessment and planning projects (including in the State of Washington).  The firms bring DOR senior ECM governance, records management, compliance, technology, and process improvement expertise.  <span style=\"position:absolute; border: black 1px solid; left:48px; top:235px; width:0px; height:0px;\"></span>\\n<span style=\"position:absolute; border: black 1px solid; left:48px; top:235px; width:112px; height:0px;\"></span>\\n<span style=\"position:absolute; border: black 1px solid; left:161px; top:235px; width:0px; height:0px;\"></span>\\n<span style=\"position:absolute; border: black 1px solid; left:162px; top:235px; width:382px; height:0px;\"></span>\\n<span style=\"position:absolute; border: black 1px solid; left:544px; top:235px; width:0px; height:0px;\"></span>\\n<span style=\"position:absolute; border: black 1px solid; left:48px; top:236px; width:0px; height:73px;\"></span>\\n<span style=\"position:absolute; border: black 1px solid; left:161px; top:236px; width:0px; height:73px;\"></span>\\n<span style=\"position:absolute; border: black 1px solid; left:544px; top:236px; width:0px; height:73px;\"></span>\\n</span><span style=\"font-family: Calibri-Bold; font-size:9px\">Name(s) of consultant(s) </span><span style=\"font-family: Calibri-Bold; font-size:9px\">provided by </span><span style=\"font-family: Calibri-Bold; font-size:9px\">subcontractor company. </span><span style=\"font-family: Calibri; font-size:9px\">Charmaine Brooks, Certified Records Manager (CRM), Partner.  Charmaine has over 25 </span><span style=\"font-family: Calibri; font-size:9px\">years of experience providing ECM information governance assessments &amp; strategy, </span><span style=\"font-family: Calibri; font-size:9px\">records &amp; information management, technology &amp; vendor selection, and digital content remediation. <span style=\"position:absolute; border: black 1px solid; left:48px; top:309px; width:0px; height:0px;\"></span>\\n<span style=\"position:absolute; border: black 1px solid; left:48px; top:309px; width:112px; height:0px;\"></span>\\n<span style=\"position:absolute; border: black 1px solid; left:161px; top:309px; width:0px; height:0px;\"></span>\\n<span style=\"position:absolute; border: black 1px solid; left:162px; top:309px; width:382px; height:0px;\"></span>\\n<span style=\"position:absolute; border: black 1px solid; left:544px; top:309px; width:0px; height:0px;\"></span>\\n<span style=\"position:absolute; border: black 1px solid; left:48px; top:309px; width:0px; height:48px;\"></span>\\n<span style=\"position:absolute; border: black 1px solid; left:161px; top:309px; width:0px; height:48px;\"></span>\\n<span style=\"position:absolute; border: black 1px solid; left:544px; top:309px; width:0px; height:48px;\"></span>\\n</span><span style=\"font-family: Calibri-Bold; font-size:9px\">Describe the work to be performed by the subcontracted consultant(s) </span><span style=\"font-family: Calibri; font-size:9px\">Charmaine Brooks, CRM will work with George Dunn, President of CRE8 Independent Consultants in the planning, assessment, interview, and report writing phases of the project. Charmaine will function as the information governance, records management, and compliance subject matter expert. Charmaine has assisted many State of Washington government organizations and is knowledgeable regarding Washington State IG/Records management regulations and requirements.</span><span style=\"font-family: Calibri-Italic; font-size:9px\"> </span><span style=\"font-family: Calibri; font-size:9px\"> <span style=\"position:absolute; border: black 1px solid; left:48px; top:358px; width:0px; height:0px;\"></span>\\n<span style=\"position:absolute; border: black 1px solid; left:48px; top:358px; width:112px; height:0px;\"></span>\\n<span style=\"position:absolute; border: black 1px solid; left:161px; top:358px; width:0px; height:0px;\"></span>\\n<span style=\"position:absolute; border: black 1px solid; left:162px; top:358px; width:382px; height:0px;\"></span>\\n<span style=\"position:absolute; border: black 1px solid; left:544px; top:358px; width:0px; height:0px;\"></span>\\n<span style=\"position:absolute; border: black 1px solid; left:48px; top:359px; width:0px; height:73px;\"></span>\\n<span style=\"position:absolute; border: black 1px solid; left:161px; top:359px; width:0px; height:73px;\"></span>\\n<span style=\"position:absolute; border: black 1px solid; left:544px; top:359px; width:0px; height:73px;\"></span>\\n</span><span style=\"font-family: Calibri-Bold; font-size:9px\">Describe strategies the Vendor will use to manage and monitor the work to be completed by the subcontracted consultant(s) </span><span style=\"font-family: Calibri; font-size:9px\">George Dunn, President of CRE8 will work with Charmaine Brooks during all phases of the project.  Together they will discuss observations, findings and recommendations.  Progress, results and work completed will be communicated in weekly project management updates to DOR.  Draft deliverable and report findings will be provided to DOR for review and approval.  <span style=\"position:absolute; border: black 1px solid; left:48px; top:432px; width:0px; height:0px;\"></span>\\n<span style=\"position:absolute; border: black 1px solid; left:48px; top:432px; width:112px; height:0px;\"></span>\\n<span style=\"position:absolute; border: black 1px solid; left:161px; top:432px; width:0px; height:0px;\"></span>\\n<span style=\"position:absolute; border: black 1px solid; left:162px; top:432px; width:382px; height:0px;\"></span>\\n<span style=\"position:absolute; border: black 1px solid; left:544px; top:432px; width:0px; height:0px;\"></span>\\n<span style=\"position:absolute; border: black 1px solid; left:48px; top:432px; width:0px; height:85px;\"></span>\\n<span style=\"position:absolute; border: black 1px solid; left:48px; top:518px; width:0px; height:0px;\"></span>\\n<span style=\"position:absolute; border: black 1px solid; left:48px; top:518px; width:0px; height:0px;\"></span>\\n<span style=\"position:absolute; border: black 1px solid; left:48px; top:518px; width:112px; height:0px;\"></span>\\n<span style=\"position:absolute; border: black 1px solid; left:161px; top:432px; width:0px; height:85px;\"></span>\\n<span style=\"position:absolute; border: black 1px solid; left:161px; top:518px; width:0px; height:0px;\"></span>\\n<span style=\"position:absolute; border: black 1px solid; left:162px; top:518px; width:382px; height:0px;\"></span>\\n<span style=\"position:absolute; border: black 1px solid; left:544px; top:432px; width:0px; height:85px;\"></span>\\n<span style=\"position:absolute; border: black 1px solid; left:544px; top:518px; width:0px; height:0px;\"></span>\\n<span style=\"position:absolute; border: black 1px solid; left:544px; top:518px; width:0px; height:0px;\"></span>\\n</span><span style=\"font-family: TimesNewRomanPSMT; font-size:12px\"> <span style=\"position:absolute; border: black 1px solid; left:48px; top:533px; width:501px; height:28px;\"></span>\\n<span style=\"position:absolute; border: black 1px solid; left:53px; top:533px; width:491px; height:14px;\"></span>\\n<span style=\"position:absolute; border: black 1px solid; left:52px; top:533px; width:494px; height:14px;\"></span>\\n</span><span style=\"font-family: Calibri-Bold; font-size:9px\">2A.  S</span><span style=\"font-family: Calibri-Bold; font-size:8px\">UPPORTING </span><span style=\"font-family: Calibri-Bold; font-size:9px\">D</span><span style=\"font-family: Calibri-Bold; font-size:8px\">IVERSE </span><span style=\"font-family: Calibri-Bold; font-size:9px\">V</span><span style=\"font-family: Calibri-Bold; font-size:8px\">ENDOR </span><span style=\"font-family: Calibri-Bold; font-size:9px\">P</span><span style=\"font-family: Calibri-Bold; font-size:8px\">OOL </span><span style=\"font-family: Calibri-Bold; font-size:9px\">–</span><span style=\"font-family: Calibri-Bold; font-size:9px\"> C</span><span style=\"font-family: Calibri-Bold; font-size:8px\">ERTIFICATIONS</span><span style=\"font-family: Calibri-Bold; font-size:9px\"> </span><span style=\"font-family: Calibri; font-size:8px\">PER SECTION </span><span style=\"font-family: Calibri; font-size:9px\">9</span><span style=\"font-family: Calibri; font-size:8px\">D OF THE WORK REQUEST</span><span style=\"font-family: Calibri; font-size:9px\">,</span><span style=\"font-family: Calibri; font-size:8px\"> PROVIDE THE <span style=\"position:absolute; border: black 1px solid; left:53px; top:547px; width:491px; height:14px;\"></span>\\n<span style=\"position:absolute; border: black 1px solid; left:52px; top:547px; width:494px; height:14px;\"></span>\\nINFORMATION REQUESTED IN THIS SECTION FOR EACH SUBCONTRACTOR INCLUDED IN THE PROPOSAL</span><span style=\"font-family: Calibri; font-size:9px\">.</span><span style=\"font-family: Calibri; font-size:8px\">  </span><span style=\"font-family: Calibri; font-size:9px\"> <span style=\"position:absolute; border: black 1px solid; left:48px; top:532px; width:0px; height:0px;\"></span>\\n<span style=\"position:absolute; border: black 1px solid; left:48px; top:532px; width:0px; height:0px;\"></span>\\n<span style=\"position:absolute; border: black 1px solid; left:48px; top:532px; width:501px; height:0px;\"></span>\\n<span style=\"position:absolute; border: black 1px solid; left:550px; top:532px; width:0px; height:0px;\"></span>\\n<span style=\"position:absolute; border: black 1px solid; left:550px; top:532px; width:0px; height:0px;\"></span>\\n<span style=\"position:absolute; border: black 1px solid; left:48px; top:533px; width:0px; height:28px;\"></span>\\n<span style=\"position:absolute; border: black 1px solid; left:550px; top:533px; width:0px; height:28px;\"></span>\\n</span><span style=\"font-family: Calibri-Bold; font-size:9px\">Imerge Consulting </span><span style=\"font-family: Calibri; font-size:9px\"> <span style=\"position:absolute; border: black 1px solid; left:48px; top:561px; width:0px; height:0px;\"></span>\\n<span style=\"position:absolute; border: black 1px solid; left:48px; top:561px; width:217px; height:0px;\"></span>\\n<span style=\"position:absolute; border: black 1px solid; left:266px; top:561px; width:0px; height:0px;\"></span>\\n<span style=\"position:absolute; border: black 1px solid; left:266px; top:561px; width:283px; height:0px;\"></span>\\n<span style=\"position:absolute; border: black 1px solid; left:550px; top:561px; width:0px; height:0px;\"></span>\\n<span style=\"position:absolute; border: black 1px solid; left:48px; top:561px; width:0px; height:20px;\"></span>\\n<span style=\"position:absolute; border: black 1px solid; left:266px; top:561px; width:0px; height:20px;\"></span>\\n<span style=\"position:absolute; border: black 1px solid; left:550px; top:561px; width:0px; height:20px;\"></span>\\n</span><span style=\"font-family: Calibri-Bold; font-size:9px\">Is your firm certified with the Washington State </span><span style=\"font-family: Calibri-Bold; font-size:9px\">Office of Minority &amp; Women’s Business </span><span style=\"font-family: Calibri-Bold; font-size:9px\">Enterprises? </span><span style=\"font-family: Calibri; font-size:9px\">https://omwbe.wa.gov/ <span style=\"position:absolute; border: black 1px solid; left:53px; top:635px; width:97px; height:0px;\"></span>\\n</span><span style=\"font-family: Calibri; font-size:9px\">Yes <span style=\"position:absolute; border: black 1px solid; left:289px; top:583px; width:9px; height:9px;\"></span>\\n  No X </span><span style=\"font-family: Calibri; font-size:9px\">If yes, provide MWBE Certification No:  _______   <span style=\"position:absolute; border: black 1px solid; left:48px; top:581px; width:0px; height:0px;\"></span>\\n<span style=\"position:absolute; border: black 1px solid; left:48px; top:581px; width:217px; height:0px;\"></span>\\n<span style=\"position:absolute; border: black 1px solid; left:266px; top:581px; width:0px; height:0px;\"></span>\\n<span style=\"position:absolute; border: black 1px solid; left:266px; top:581px; width:283px; height:0px;\"></span>\\n<span style=\"position:absolute; border: black 1px solid; left:550px; top:581px; width:0px; height:0px;\"></span>\\n<span style=\"position:absolute; border: black 1px solid; left:48px; top:582px; width:0px; height:56px;\"></span>\\n<span style=\"position:absolute; border: black 1px solid; left:266px; top:582px; width:0px; height:56px;\"></span>\\n<span style=\"position:absolute; border: black 1px solid; left:550px; top:582px; width:0px; height:56px;\"></span>\\n</span><span style=\"font-family: Calibri-Bold; font-size:9px\">Is your firm a self-certified Washington State small, mini, or micro-business as defined by  RCW 39.26.010? <span style=\"position:absolute; border: black 1px solid; left:53px; top:677px; width:63px; height:0px;\"></span>\\n </span><span style=\"font-family: Calibri; font-size:9px\">Yes <span style=\"position:absolute; border: black 1px solid; left:289px; top:640px; width:9px; height:9px;\"></span>\\n  No X If yes, what is your business size?   Small <span style=\"position:absolute; border: black 1px solid; left:333px; top:680px; width:9px; height:9px;\"></span>\\n  Mini <span style=\"position:absolute; border: black 1px solid; left:370px; top:680px; width:9px; height:9px;\"></span>\\n  Micro <span style=\"position:absolute; border: black 1px solid; left:413px; top:680px; width:9px; height:9px;\"></span>\\n <span style=\"position:absolute; border: black 1px solid; left:48px; top:638px; width:0px; height:0px;\"></span>\\n<span style=\"position:absolute; border: black 1px solid; left:48px; top:638px; width:217px; height:0px;\"></span>\\n<span style=\"position:absolute; border: black 1px solid; left:266px; top:638px; width:0px; height:0px;\"></span>\\n<span style=\"position:absolute; border: black 1px solid; left:266px; top:638px; width:283px; height:0px;\"></span>\\n<span style=\"position:absolute; border: black 1px solid; left:550px; top:638px; width:0px; height:0px;\"></span>\\n<span style=\"position:absolute; border: black 1px solid; left:48px; top:639px; width:0px; height:60px;\"></span>\\n<span style=\"position:absolute; border: black 1px solid; left:266px; top:639px; width:0px; height:60px;\"></span>\\n<span style=\"position:absolute; border: black 1px solid; left:550px; top:639px; width:0px; height:60px;\"></span>\\n</span><span style=\"font-family: Calibri-Bold; font-size:9px\">Is your firm certified as Veteran Owned with </span><span style=\"font-family: Calibri-Bold; font-size:9px\">Washington State Department of Veteran Affairs? </span><span style=\"font-family: TimesNewRomanPSMT; font-size:9px\">https://dva.wa.gov </span><span style=\"font-family: Calibri; font-size:9px\"> <span style=\"position:absolute; border: black 1px solid; left:87px; top:738px; width:74px; height:0px;\"></span>\\n</span><span style=\"font-family: Calibri; font-size:9px\">Yes <span style=\"position:absolute; border: black 1px solid; left:289px; top:700px; width:9px; height:9px;\"></span>\\n  No X </span><span style=\"font-family: Calibri; font-size:9px\">If yes, provide WSDVA Certification No.:  ______   <span style=\"position:absolute; border: black 1px solid; left:48px; top:699px; width:0px; height:0px;\"></span>\\n<span style=\"position:absolute; border: black 1px solid; left:48px; top:699px; width:217px; height:0px;\"></span>\\n<span style=\"position:absolute; border: black 1px solid; left:266px; top:699px; width:0px; height:0px;\"></span>\\n<span style=\"position:absolute; border: black 1px solid; left:266px; top:699px; width:283px; height:0px;\"></span>\\n<span style=\"position:absolute; border: black 1px solid; left:550px; top:699px; width:0px; height:0px;\"></span>\\n<span style=\"position:absolute; border: black 1px solid; left:48px; top:699px; width:0px; height:51px;\"></span>\\n<span style=\"position:absolute; border: black 1px solid; left:48px; top:751px; width:0px; height:0px;\"></span>\\n<span style=\"position:absolute; border: black 1px solid; left:48px; top:751px; width:0px; height:0px;\"></span>\\n<span style=\"position:absolute; border: black 1px solid; left:48px; top:751px; width:217px; height:0px;\"></span>\\n<span style=\"position:absolute; border: black 1px solid; left:266px; top:699px; width:0px; height:51px;\"></span>\\n<span style=\"position:absolute; border: black 1px solid; left:266px; top:751px; width:0px; height:0px;\"></span>\\n<span style=\"position:absolute; border: black 1px solid; left:266px; top:751px; width:283px; height:0px;\"></span>\\n<span style=\"position:absolute; border: black 1px solid; left:550px; top:699px; width:0px; height:51px;\"></span>\\n<span style=\"position:absolute; border: black 1px solid; left:550px; top:751px; width:0px; height:0px;\"></span>\\n<span style=\"position:absolute; border: black 1px solid; left:550px; top:751px; width:0px; height:0px;\"></span>\\n<div style=\"position:absolute; top:0px;\">Page: <a href=\"#1\">1</a></div>\\n</body></html>\\n'"
      ]
     },
     "execution_count": 48,
     "metadata": {},
     "output_type": "execute_result"
    }
   ],
   "source": [
    "content"
   ]
  },
  {
   "cell_type": "code",
   "execution_count": null,
   "id": "11d6faf2-f926-4999-83f4-33f281f51cbd",
   "metadata": {},
   "outputs": [],
   "source": []
  },
  {
   "cell_type": "code",
   "execution_count": null,
   "id": "b9017840-6505-47ee-bcdd-910ee12b2c8e",
   "metadata": {},
   "outputs": [],
   "source": []
  },
  {
   "cell_type": "code",
   "execution_count": null,
   "id": "e469b3b4-d624-49bc-909f-9c8c761213bd",
   "metadata": {},
   "outputs": [],
   "source": []
  },
  {
   "cell_type": "code",
   "execution_count": null,
   "id": "20de5262-2567-4405-8895-648e49f9f409",
   "metadata": {},
   "outputs": [],
   "source": []
  },
  {
   "cell_type": "code",
   "execution_count": 158,
   "id": "905d824d-50ad-44c3-b2f1-b671e33ab933",
   "metadata": {},
   "outputs": [],
   "source": [
    "import fitz\n",
    "import pathlib"
   ]
  },
  {
   "cell_type": "code",
   "execution_count": 173,
   "id": "d2635dea-4d91-4ee1-8309-f013f804e803",
   "metadata": {},
   "outputs": [],
   "source": [
    "fname = '/mnt/c/Users/riguy/code/financeExplorer/samples/RFP/NewBrunswick/DIGITAL TRANSFORMATION SNB.CA.pdf'\n",
    "fname = \"../../samples/RFP/Utah/GSS_14579DataComm_rfp.pdf\"\n",
    "fname = \"../../samples/RFP/OneWATesting/23-700_OneWA_Workday Testing Services_f.pdf\"\n",
    "\n",
    "\n",
    "\n",
    "# with fitz.open(fname) as doc:  # open document\n",
    "#     text = ' '.join([page.get_text() for page in doc])\n",
    "# # write as a binary file to support non-ASCII characters\n",
    "# pathlib.Path(\"/mnt/c/tmp/out.txt\").write_bytes(text.encode())\n"
   ]
  },
  {
   "cell_type": "code",
   "execution_count": null,
   "id": "5a2d18a9-0a94-4137-bb7a-868305914a33",
   "metadata": {},
   "outputs": [],
   "source": []
  },
  {
   "cell_type": "code",
   "execution_count": 174,
   "id": "9818359a-5a2c-4616-a5dd-2e98bbe12004",
   "metadata": {},
   "outputs": [
    {
     "name": "stdout",
     "output_type": "stream",
     "text": [
      "\n",
      "Text: ' '\n",
      "Font: 'ArialMT' (sans, proportional), size 9.96, color #000000\n",
      "-------newline----------\n",
      "\n",
      "Text: 'RFP #23-700 '\n",
      "Font: 'ArialMT' (sans, proportional), size 9.96, color #000000\n",
      "-------newline----------\n",
      "\n",
      "Text: 'One Washington Testing Services '\n",
      "Font: 'ArialMT' (sans, proportional), size 9.96, color #000000\n",
      "-------newline----------\n",
      "\n",
      "Text: 'Page 17 '\n",
      "Font: 'ArialMT' (sans, proportional), size 9.96, color #000000\n",
      "\n",
      "Text: ' '\n",
      "Font: 'Arial-BoldMT' (sans, proportional, bold), size 9.96, color #000000\n",
      "-------newline----------\n",
      "\n",
      "Text: 'Budget Proposal Scoring. Scores'\n",
      "Font: 'ArialMT' (sans, proportional), size 9.96, color #000000\n",
      "\n",
      "Text: ' '\n",
      "Font: 'Arial-BoldMT' (sans, proportional, bold), size 9.96, color #000000\n",
      "\n",
      "Text: 'for the Budget Proposal are computed by dividing the lowest bid by '\n",
      "Font: 'ArialMT' (sans, proportional), size 9.96, color #000000\n",
      "-------newline----------\n",
      "\n",
      "Text: 'the amount bid in the Applicant’s Budget Proposal and multiplying that percentage against the total '\n",
      "Font: 'ArialMT' (sans, proportional), size 9.96, color #000000\n",
      "-------newline----------\n",
      "\n",
      "Text: 'points available for that Budget Proposal requirement, rounded to the nearest hundredth of a point. '\n",
      "Font: 'ArialMT' (sans, proportional), size 9.96, color #000000\n",
      "-------newline----------\n",
      "\n",
      "Text: ' '\n",
      "Font: 'ArialMT' (sans, proportional), size 9.96, color #000000\n",
      "-------newline----------\n",
      "\n",
      "Text: 'Example:  If total possible points for cost were 20.  '\n",
      "Font: 'ArialMT' (sans, proportional), size 9.96, color #000000\n",
      "-------newline----------\n",
      "\n",
      "Text: '     Applicant A’s cost is $20,000.  '\n",
      "Font: 'ArialMT' (sans, proportional), size 9.96, color #000000\n",
      "-------newline----------\n",
      "\n",
      "Text: '     Applicant B’s cost is $25,000.  '\n",
      "Font: 'ArialMT' (sans, proportional), size 9.96, color #000000\n",
      "-------newline----------\n",
      "\n",
      "Text: '     Applicant A would score 20 points,  '\n",
      "Font: 'ArialMT' (sans, proportional), size 9.96, color #000000\n",
      "-------newline----------\n",
      "\n",
      "Text: '     Applicant B would score 16 points ($20,000/$25,000) = 80% x 20 points = 16). '\n",
      "Font: 'ArialMT' (sans, proportional), size 9.96, color #000000\n",
      "-------newline----------\n",
      "\n",
      "Text: ' '\n",
      "Font: 'ArialMT' (sans, proportional), size 9.96, color #000000\n",
      "-------newline----------\n",
      "\n",
      "Text: 'Lowest Budget Cost '\n",
      "Font: 'ArialMT' (sans, proportional), size 9.96, color #000000\n",
      "-------newline----------\n",
      "\n",
      "Text: 'X '\n",
      "Font: 'ArialMT' (sans, proportional), size 9.96, color #000000\n",
      "-------newline----------\n",
      "\n",
      "Text: 'Number of Points '\n",
      "Font: 'ArialMT' (sans, proportional), size 9.96, color #000000\n",
      "-------newline----------\n",
      "\n",
      "Text: 'Possible '\n",
      "Font: 'ArialMT' (sans, proportional), size 9.96, color #000000\n",
      "-------newline----------\n",
      "\n",
      "Text: '= '\n",
      "Font: 'Arial-BoldMT' (sans, proportional, bold), size 9.96, color #000000\n",
      "-------newline----------\n",
      "\n",
      "Text: 'Score '\n",
      "Font: 'ArialMT' (sans, proportional), size 9.96, color #000000\n",
      "-------newline----------\n",
      "\n",
      "Text: 'This Applicant’s Cost '\n",
      "Font: 'ArialMT' (sans, proportional), size 9.96, color #000000\n",
      "-------newline----------\n",
      "\n",
      "Text: ' '\n",
      "Font: 'ArialMT' (sans, proportional), size 11.04, color #000000\n",
      "-------newline----------\n",
      "\n",
      "Text: 'Round 3:'\n",
      "Font: 'Arial-BoldMT' (sans, proportional, bold), size 9.96, color #000000\n",
      "\n",
      "Text: ' Oral Presentation (if required) '\n",
      "Font: 'ArialMT' (sans, proportional), size 9.96, color #000000\n",
      "-------newline----------\n",
      "\n",
      "Text: ' '\n",
      "Font: 'ArialMT' (sans, proportional), size 9.96, color #000000\n",
      "-------newline----------\n",
      "\n",
      "Text: 'If required, OFM may select the top-scoring Applicant(s) as finalists and require an Oral Presentation '\n",
      "Font: 'ArialMT' (sans, proportional), size 9.96, color #000000\n",
      "-------newline----------\n",
      "\n",
      "Text: 'on the date specified in Section 2.2 Estimated Schedule. The RFP Coordinator will notify finalists of '\n",
      "Font: 'ArialMT' (sans, proportional), size 9.96, color #000000\n",
      "-------newline----------\n",
      "\n",
      "Text: 'time and access information for the presentation. OFM reserves the right to require an Oral '\n",
      "Font: 'ArialMT' (sans, proportional), size 9.96, color #000000\n",
      "-------newline----------\n",
      "\n",
      "Text: 'Presentation.  '\n",
      "Font: 'ArialMT' (sans, proportional), size 9.96, color #000000\n",
      "-------newline----------\n",
      "\n",
      "Text: ' '\n",
      "Font: 'ArialMT' (sans, proportional), size 9.96, color #000000\n",
      "-------newline----------\n",
      "\n",
      "Text: 'Applicants are required to include key personnel and sub-contract(s) proposed in the oral '\n",
      "Font: 'ArialMT' (sans, proportional), size 9.96, color #000000\n",
      "-------newline----------\n",
      "\n",
      "Text: 'presentation. The presentation will be performed via Teams. '\n",
      "Font: 'ArialMT' (sans, proportional), size 9.96, color #000000\n",
      "-------newline----------\n",
      "\n",
      "Text: ' '\n",
      "Font: 'ArialMT' (sans, proportional), size 9.96, color #000000\n",
      "-------newline----------\n",
      "\n",
      "Text: 'Points Awarded for Requirements. The number in parentheses after each required Oral Presentation '\n",
      "Font: 'ArialMT' (sans, proportional), size 9.96, color #000000\n",
      "-------newline----------\n",
      "\n",
      "Text: 'content represents the maximum number of points that may be awarded for the Applicant’s '\n",
      "Font: 'ArialMT' (sans, proportional), size 9.96, color #000000\n",
      "-------newline----------\n",
      "\n",
      "Text: 'presentation of that content. Scores do not carry forward from Round 2. '\n",
      "Font: 'ArialMT' (sans, proportional), size 9.96, color #000000\n",
      "-------newline----------\n",
      "\n",
      "Text: ' '\n",
      "Font: 'ArialMT' (sans, proportional), size 9.96, color #000000\n",
      "-------newline----------\n",
      "\n",
      "Text: 'Oral Presentation Content. Finalists are required to provide an executive briefing on their proposal. '\n",
      "Font: 'ArialMT' (sans, proportional), size 9.96, color #000000\n",
      "-------newline----------\n",
      "\n",
      "Text: 'Applicants should anticipate and accommodate questions throughout their presentation. One hour will '\n",
      "Font: 'ArialMT' (sans, proportional), size 9.96, color #000000\n",
      "-------newline----------\n",
      "\n",
      "Text: 'be scheduled. The following content is required: '\n",
      "Font: 'ArialMT' (sans, proportional), size 9.96, color #000000\n",
      "-------newline----------\n",
      "\n",
      "Text: ' '\n",
      "Font: 'ArialMT' (sans, proportional), size 9.96, color #000000\n",
      "-------newline----------\n",
      "\n",
      "Text: '•'\n",
      "Font: 'SymbolMT' (sans, proportional), size 9.96, color #000000\n",
      "\n",
      "Text: ' '\n",
      "Font: 'ArialMT' (sans, proportional), size 9.96, color #000000\n",
      "-------newline----------\n",
      "\n",
      "Text: 'Technical proposal  '\n",
      "Font: 'ArialMT' (sans, proportional), size 9.96, color #000000\n",
      "-------newline----------\n",
      "\n",
      "Text: ' '\n",
      "Font: 'ArialMT' (sans, proportional), size 9.96, color #000000\n",
      "-------newline----------\n",
      "\n",
      "Text: ' '\n",
      "Font: 'ArialMT' (sans, proportional), size 9.96, color #000000\n",
      "-------newline----------\n",
      "\n",
      "Text: ' '\n",
      "Font: 'ArialMT' (sans, proportional), size 9.96, color #000000\n",
      "-------newline----------\n",
      "\n",
      "Text: ' '\n",
      "Font: 'ArialMT' (sans, proportional), size 9.96, color #000000\n",
      "-------newline----------\n",
      "\n",
      "Text: ' '\n",
      "Font: 'ArialMT' (sans, proportional), size 9.96, color #000000\n",
      "-------newline----------\n",
      "\n",
      "Text: '40 points possible'\n",
      "Font: 'ArialMT' (sans, proportional), size 9.96, color #000000\n",
      "\n",
      "Text: ' '\n",
      "Font: 'Arial-BoldMT' (sans, proportional, bold), size 9.96, color #000000\n",
      "-------newline----------\n",
      "\n",
      "Text: '•'\n",
      "Font: 'SymbolMT' (sans, proportional), size 9.96, color #000000\n",
      "\n",
      "Text: ' '\n",
      "Font: 'ArialMT' (sans, proportional), size 9.96, color #000000\n",
      "-------newline----------\n",
      "\n",
      "Text: 'Management proposal '\n",
      "Font: 'ArialMT' (sans, proportional), size 9.96, color #000000\n",
      "-------newline----------\n",
      "\n",
      "Text: ' '\n",
      "Font: 'ArialMT' (sans, proportional), size 9.96, color #000000\n",
      "-------newline----------\n",
      "\n",
      "Text: ' '\n",
      "Font: 'ArialMT' (sans, proportional), size 9.96, color #000000\n",
      "-------newline----------\n",
      "\n",
      "Text: ' '\n",
      "Font: 'ArialMT' (sans, proportional), size 9.96, color #000000\n",
      "-------newline----------\n",
      "\n",
      "Text: ' '\n",
      "Font: 'ArialMT' (sans, proportional), size 9.96, color #000000\n",
      "-------newline----------\n",
      "\n",
      "Text: '30 points possible '\n",
      "Font: 'ArialMT' (sans, proportional), size 9.96, color #000000\n",
      "-------newline----------\n",
      "\n",
      "Text: ' '\n",
      "Font: 'ArialMT' (sans, proportional), size 9.96, color #000000\n",
      "-------newline----------\n",
      "\n",
      "Text: '•'\n",
      "Font: 'SymbolMT' (sans, proportional), size 9.96, color #000000\n",
      "\n",
      "Text: ' '\n",
      "Font: 'ArialMT' (sans, proportional), size 9.96, color #000000\n",
      "-------newline----------\n",
      "\n",
      "Text: 'Budget proposal '\n",
      "Font: 'ArialMT' (sans, proportional), size 9.96, color #000000\n",
      "-------newline----------\n",
      "\n",
      "Text: ' '\n",
      "Font: 'ArialMT' (sans, proportional), size 9.96, color #000000\n",
      "-------newline----------\n",
      "\n",
      "Text: ' '\n",
      "Font: 'ArialMT' (sans, proportional), size 9.96, color #000000\n",
      "-------newline----------\n",
      "\n",
      "Text: ' '\n",
      "Font: 'ArialMT' (sans, proportional), size 9.96, color #000000\n",
      "-------newline----------\n",
      "\n",
      "Text: ' '\n",
      "Font: 'ArialMT' (sans, proportional), size 9.96, color #000000\n",
      "-------newline----------\n",
      "\n",
      "Text: ' '\n",
      "Font: 'ArialMT' (sans, proportional), size 9.96, color #000000\n",
      "-------newline----------\n",
      "\n",
      "Text: '30 points possible '\n",
      "Font: 'ArialMT' (sans, proportional), size 9.96, color #000000\n",
      "-------newline----------\n",
      "\n",
      "Text: '_______________________________________________________________________ '\n",
      "Font: 'ArialMT' (sans, proportional), size 9.96, color #000000\n",
      "-------newline----------\n",
      "\n",
      "Text: ' '\n",
      "Font: 'Arial-BoldMT' (sans, proportional, bold), size 9.96, color #000000\n",
      "-------newline----------\n",
      "\n",
      "Text: ' '\n",
      "Font: 'ArialMT' (sans, proportional), size 9.96, color #000000\n",
      "-------newline----------\n",
      "\n",
      "Text: ' '\n",
      "Font: 'ArialMT' (sans, proportional), size 9.96, color #000000\n",
      "-------newline----------\n",
      "\n",
      "Text: 'TOTAL  '\n",
      "Font: 'ArialMT' (sans, proportional), size 9.96, color #000000\n",
      "-------newline----------\n",
      "\n",
      "Text: ' '\n",
      "Font: 'ArialMT' (sans, proportional), size 9.96, color #000000\n",
      "-------newline----------\n",
      "\n",
      "Text: ' '\n",
      "Font: 'ArialMT' (sans, proportional), size 9.96, color #000000\n",
      "-------newline----------\n",
      "\n",
      "Text: ' '\n",
      "Font: 'ArialMT' (sans, proportional), size 9.96, color #000000\n",
      "-------newline----------\n",
      "\n",
      "Text: ' '\n",
      "Font: 'ArialMT' (sans, proportional), size 9.96, color #000000\n",
      "-------newline----------\n",
      "\n",
      "Text: ' '\n",
      "Font: 'ArialMT' (sans, proportional), size 9.96, color #000000\n",
      "-------newline----------\n",
      "\n",
      "Text: '  '\n",
      "Font: 'ArialMT' (sans, proportional), size 9.96, color #000000\n",
      "-------newline----------\n",
      "\n",
      "Text: '100 points (maximum)'\n",
      "Font: 'ArialMT' (sans, proportional), size 9.96, color #000000\n",
      "\n",
      "Text: ' '\n",
      "Font: 'Arial-BoldMT' (sans, proportional, bold), size 9.96, color #000000\n",
      "-------newline----------\n",
      "\n",
      "Text: ' '\n",
      "Font: 'ArialMT' (sans, proportional), size 9.96, color #000000\n",
      "-------newline----------\n",
      "\n",
      "Text: 'OFM reserves the right to award the contracts to the Applicant whose proposals are deemed to be in '\n",
      "Font: 'ArialMT' (sans, proportional), size 9.96, color #000000\n",
      "-------newline----------\n",
      "\n",
      "Text: 'the best interest of OFM and the state of Washington.  '\n",
      "Font: 'ArialMT' (sans, proportional), size 9.96, color #000000\n",
      "-------newline----------\n",
      "\n",
      "Text: ' '\n",
      "Font: 'ArialMT' (sans, proportional), size 9.96, color #000000\n",
      "-------newline----------\n",
      "\n",
      "Text: 'As part of final funding decisions for proposals, in addition to scoring, OFM will also consider factors '\n",
      "Font: 'ArialMT' (sans, proportional), size 9.96, color #000000\n",
      "-------newline----------\n",
      "\n",
      "Text: 'like geography, cultural and linguistic diversity of communities, and types of activities proposed to '\n",
      "Font: 'ArialMT' (sans, proportional), size 9.96, color #000000\n",
      "-------newline----------\n",
      "\n",
      "Text: 'ensure a diversity of approaches are funded.  '\n",
      "Font: 'ArialMT' (sans, proportional), size 9.96, color #000000\n",
      "-------newline----------\n",
      "\n",
      "Text: ' '\n",
      "Font: 'Arial-BoldMT' (sans, proportional, bold), size 9.96, color #000000\n",
      "-------newline----------\n",
      "\n",
      "Text: '4.3 FINAL DETERMINATION OF APPARENTLY SUCCESSFUL APPLICANTS '\n",
      "Font: 'Arial-BoldMT' (sans, proportional, bold), size 9.96, color #000000\n",
      "-------newline----------\n",
      "\n",
      "Text: ' '\n",
      "Font: 'ArialMT' (sans, proportional), size 9.96, color #000000\n",
      "-------newline----------\n",
      "\n",
      "Text: 'OFM program staff and/or management may conduct reference interviews in addition to final review '\n",
      "Font: 'ArialMT' (sans, proportional), size 9.96, color #000000\n",
      "-------newline----------\n",
      "\n",
      "Text: 'of the evaluation and scoring of finalists(s).  '\n",
      "Font: 'ArialMT' (sans, proportional), size 9.96, color #000000\n",
      "-------newline----------\n",
      "\n",
      "Text: 'In the final review, OFM may consider past or current performance of any Washington State Agency '\n",
      "Font: 'ArialMT' (sans, proportional), size 9.96, color #000000\n",
      "-------newline----------\n",
      "\n",
      "Text: 'contracts by a finalist(s), and any experience of the program, OFM or Washington State Agency in '\n",
      "Font: 'ArialMT' (sans, proportional), size 9.96, color #000000\n",
      "-------newline----------\n",
      "\n",
      "Text: 'working with a finalist(s) under any past or current contract with a Washington State Agency.  '\n",
      "Font: 'ArialMT' (sans, proportional), size 9.96, color #000000\n",
      "-------newline----------\n",
      "\n",
      "Text: 'In doing so, OFM management shall be guided, but not bound, by the scores awarded by the '\n",
      "Font: 'ArialMT' (sans, proportional), size 9.96, color #000000\n",
      "-------newline----------\n",
      "\n",
      "Text: 'evaluators. Program staff and OFM management shall determine which Proposals reviewed during '\n",
      "Font: 'ArialMT' (sans, proportional), size 9.96, color #000000\n",
      "-------newline----------\n",
      "\n",
      "Text: 'this final selection process will best meet the needs of OFM and, specifically, the needs of OFM'\n",
      "Font: 'ArialMT' (sans, proportional), size 9.96, color #000000\n",
      "\n",
      "Text: '. '\n",
      "Font: 'Arial-ItalicMT' (italic, sans, proportional), size 9.96, color #000000\n",
      "-------newline----------\n"
     ]
    }
   ],
   "source": [
    "def flags_decomposer(flags):\n",
    "    \"\"\"Make font flags human readable.\"\"\"\n",
    "    l = []\n",
    "    if flags & 2 ** 0:\n",
    "        l.append(\"superscript\")\n",
    "    if flags & 2 ** 1:\n",
    "        l.append(\"italic\")\n",
    "    if flags & 2 ** 2:\n",
    "        l.append(\"serifed\")\n",
    "    else:\n",
    "        l.append(\"sans\")\n",
    "    if flags & 2 ** 3:\n",
    "        l.append(\"monospaced\")\n",
    "    else:\n",
    "        l.append(\"proportional\")\n",
    "    if flags & 2 ** 4:\n",
    "        l.append(\"bold\")\n",
    "    return \", \".join(l)\n",
    "\n",
    "\n",
    "doc = fitz.open(fname)\n",
    "page = doc[17]\n",
    "\n",
    "# read page text as a dictionary, suppressing extra spaces in CJK fonts\n",
    "blocks = page.get_text(\"dict\", flags=11)[\"blocks\"]\n",
    "for b in blocks:  # iterate through the text blocks\n",
    "    for l in b[\"lines\"]:  # iterate through the text lines\n",
    "        for s in l[\"spans\"]:  # iterate through the text spans\n",
    "            print(\"\")\n",
    "            font_properties = \"Font: '%s' (%s), size %g, color #%06x\" % (\n",
    "                s[\"font\"],  # font name\n",
    "                flags_decomposer(s[\"flags\"]),  # readable font flags\n",
    "                s[\"size\"],  # font size\n",
    "                s[\"color\"],  # font color\n",
    "            )\n",
    "            print(\"Text: '%s'\" % s[\"text\"])  # simple print of text\n",
    "            print(font_properties)\n",
    "        print(\"-------newline----------\")"
   ]
  },
  {
   "cell_type": "code",
   "execution_count": null,
   "id": "70c69d6b-d1ef-4d04-a330-dd12753a824a",
   "metadata": {},
   "outputs": [],
   "source": []
  }
 ],
 "metadata": {
  "kernelspec": {
   "display_name": "Python 3 (ipykernel)",
   "language": "python",
   "name": "python3"
  },
  "language_info": {
   "codemirror_mode": {
    "name": "ipython",
    "version": 3
   },
   "file_extension": ".py",
   "mimetype": "text/x-python",
   "name": "python",
   "nbconvert_exporter": "python",
   "pygments_lexer": "ipython3",
   "version": "3.11.6"
  }
 },
 "nbformat": 4,
 "nbformat_minor": 5
}
